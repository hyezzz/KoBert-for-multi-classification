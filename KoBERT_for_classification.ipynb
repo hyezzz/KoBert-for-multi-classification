{
  "nbformat": 4,
  "nbformat_minor": 0,
  "metadata": {
    "kernelspec": {
      "display_name": "bert_env",
      "language": "python",
      "name": "bert"
    },
    "language_info": {
      "codemirror_mode": {
        "name": "ipython",
        "version": 3
      },
      "file_extension": ".py",
      "mimetype": "text/x-python",
      "name": "python",
      "nbconvert_exporter": "python",
      "pygments_lexer": "ipython3",
      "version": "3.7.10"
    },
    "colab": {
      "name": "KoBERT for classification.ipynb",
      "provenance": [],
      "include_colab_link": true
    }
  },
  "cells": [
    {
      "cell_type": "markdown",
      "metadata": {
        "id": "view-in-github",
        "colab_type": "text"
      },
      "source": [
        "<a href=\"https://colab.research.google.com/github/hyezzz/KoBert-for-multi-classification/blob/master/KoBERT_for_classification.ipynb\" target=\"_parent\"><img src=\"https://colab.research.google.com/assets/colab-badge.svg\" alt=\"Open In Colab\"/></a>"
      ]
    },
    {
      "cell_type": "markdown",
      "metadata": {
        "id": "7ifxVneTn9J4"
      },
      "source": [
        "# 준비 사항"
      ]
    },
    {
      "cell_type": "code",
      "metadata": {
        "id": "UsFCm5Oin9J6"
      },
      "source": [
        "import torch\n",
        "from torch import nn\n",
        "import torch.nn.functional as F\n",
        "import torch.optim as optim\n",
        "from torch.utils.data import Dataset, DataLoader\n",
        "import gluonnlp as nlp            # BERTSentenceTransform : Bert tokenizer 쉽게 가능하게해줌\n",
        "import numpy as np\n",
        "\n",
        "from tqdm import tqdm, tqdm_notebook\n",
        "import pandas as pd\n",
        "from sklearn.model_selection import train_test_split\n",
        "import os\n",
        "import random\n",
        "import matplotlib.pyplot as plt\n",
        "import seaborn as sns\n",
        "\n",
        "from torchinfo import summary\n",
        "from torchviz import make_dot\n",
        "from torch.autograd import Variable\n",
        "import graphviz \n",
        "# maplotlib 한글 설정\n",
        "plt.rcParams['axes.unicode_minus'] = False\n",
        "plt.rcParams['font.family'] = 'Malgun Gothic'"
      ],
      "execution_count": null,
      "outputs": []
    },
    {
      "cell_type": "code",
      "metadata": {
        "id": "-k97DQ_qn9J7"
      },
      "source": [
        "# seed 설정\n",
        "def seed_everything(seed=1062):\n",
        "    np.random.seed(seed)\n",
        "    np.random.seed(seed)\n",
        "    random.seed(seed)\n",
        "    torch.manual_seed(seed)\n",
        "    torch.cuda.manual_seed(seed)\n",
        "    torch.backends.cudnn.deterministic = True\n",
        " \n",
        "seed_everything(seed=7)"
      ],
      "execution_count": null,
      "outputs": []
    },
    {
      "cell_type": "code",
      "metadata": {
        "id": "X7JzTjCEn9J7"
      },
      "source": [
        "from kobert.utils import get_tokenizer\n",
        "from kobert.pytorch_kobert import get_pytorch_kobert_model"
      ],
      "execution_count": null,
      "outputs": []
    },
    {
      "cell_type": "code",
      "metadata": {
        "id": "TuC1Scm7n9J7"
      },
      "source": [
        "from transformers import AdamW\n",
        "from transformers.optimization import get_cosine_schedule_with_warmup"
      ],
      "execution_count": null,
      "outputs": []
    },
    {
      "cell_type": "code",
      "metadata": {
        "id": "VWpQ3Filn9J7"
      },
      "source": [
        "##GPU 사용 시\n",
        "device = torch.device(\"cuda:0\")"
      ],
      "execution_count": null,
      "outputs": []
    },
    {
      "cell_type": "markdown",
      "metadata": {
        "id": "TJJBK-1dn9J8"
      },
      "source": [
        "### KoBERT  Model, Vocab 불러오기"
      ]
    },
    {
      "cell_type": "code",
      "metadata": {
        "id": "RINFIm12n9J8",
        "outputId": "4a7f7a3c-cddd-4b39-a3eb-c1a8bd0a622c"
      },
      "source": [
        "# Kobert 모델 불러오기\n",
        "bertmodel, vocab = get_pytorch_kobert_model()"
      ],
      "execution_count": null,
      "outputs": [
        {
          "output_type": "stream",
          "text": [
            "using cached model\n",
            "using cached model\n"
          ],
          "name": "stdout"
        }
      ]
    },
    {
      "cell_type": "code",
      "metadata": {
        "id": "fFZ-Y1Min9J9",
        "outputId": "7057bf48-2b35-4911-a9e0-b02c49a37776"
      },
      "source": [
        "# vocab 사이즈 확인 \n",
        "vocab"
      ],
      "execution_count": null,
      "outputs": [
        {
          "output_type": "execute_result",
          "data": {
            "text/plain": [
              "Vocab(size=8002, unk=\"[UNK]\", reserved=\"['[CLS]', '[SEP]', '[MASK]', '[PAD]']\")"
            ]
          },
          "metadata": {
            "tags": []
          },
          "execution_count": 7
        }
      ]
    },
    {
      "cell_type": "code",
      "metadata": {
        "id": "XtQs4XCVn9J9"
      },
      "source": [
        "with open(\"vocab.txt\", \"w\", encoding=\"utf-8\") as f:\n",
        "    for k, v in vocab.token_to_idx.items():\n",
        "        if k[0] == '▁':\n",
        "            k = k.replace('▁', '')\n",
        "        elif k in [\"[UNK]\", \"[CLS]\", \"[SEP]\", \"[MASK]\", \"[PAD]\"]:\n",
        "            pass\n",
        "        else:\n",
        "            k = '##' + k\n",
        "        f.writelines(k + \"\\n\")"
      ],
      "execution_count": null,
      "outputs": []
    },
    {
      "cell_type": "code",
      "metadata": {
        "scrolled": true,
        "id": "lnxL3A0fn9J9",
        "outputId": "44526685-37a8-4d53-d1fc-0934532029b2"
      },
      "source": [
        "vocab_list = list(vocab.token_to_idx.keys())\n",
        "vocab_list"
      ],
      "execution_count": null,
      "outputs": [
        {
          "output_type": "execute_result",
          "data": {
            "text/plain": [
              "['[UNK]',\n",
              " '[CLS]',\n",
              " '[SEP]',\n",
              " '[MASK]',\n",
              " '[PAD]',\n",
              " '!',\n",
              " \"!'\",\n",
              " '!”',\n",
              " '\"',\n",
              " '#',\n",
              " '$',\n",
              " '%',\n",
              " '%)',\n",
              " '&',\n",
              " '&#34;',\n",
              " \"'\",\n",
              " \"'(\",\n",
              " \"',\",\n",
              " '(',\n",
              " '(0',\n",
              " '(1',\n",
              " '(10',\n",
              " '(12',\n",
              " '(15',\n",
              " '(17',\n",
              " '(18',\n",
              " '(19',\n",
              " '(2',\n",
              " '(20',\n",
              " '(23',\n",
              " '(24',\n",
              " '(25',\n",
              " '(3',\n",
              " '(4',\n",
              " '(5',\n",
              " '(6',\n",
              " '(7',\n",
              " '(8',\n",
              " '(9',\n",
              " '(?)',\n",
              " ')',\n",
              " \")'\",\n",
              " '),',\n",
              " ')’',\n",
              " '*',\n",
              " '+',\n",
              " ',',\n",
              " '-',\n",
              " '----------------',\n",
              " '-1',\n",
              " '-2',\n",
              " '-20',\n",
              " '-3',\n",
              " '-4',\n",
              " '.',\n",
              " '...',\n",
              " '...\"',\n",
              " \"...'\",\n",
              " '...”',\n",
              " '/',\n",
              " '0',\n",
              " '0%',\n",
              " '0%)',\n",
              " '0.0',\n",
              " '0.00',\n",
              " '0.1',\n",
              " '0.1%',\n",
              " '0.2%',\n",
              " '0.3',\n",
              " '0.3%',\n",
              " '0.4%',\n",
              " '0.5',\n",
              " '0.5%',\n",
              " '0.6',\n",
              " '0.6%',\n",
              " '0.7',\n",
              " '0.7%',\n",
              " '0.8',\n",
              " '0.8%',\n",
              " '00',\n",
              " '000.0',\n",
              " '00000',\n",
              " '01',\n",
              " '02',\n",
              " '02-',\n",
              " '03',\n",
              " '04',\n",
              " '05',\n",
              " '06',\n",
              " '07',\n",
              " '08',\n",
              " '09',\n",
              " '0:00:00',\n",
              " '1',\n",
              " '1%',\n",
              " '1%)',\n",
              " '1)',\n",
              " '1,000',\n",
              " '1.3%',\n",
              " '1.4%',\n",
              " '1.5%',\n",
              " '1.6',\n",
              " '1.6%',\n",
              " '1.7%',\n",
              " '1.8',\n",
              " '10',\n",
              " '100',\n",
              " '1000',\n",
              " '11',\n",
              " '12',\n",
              " '13',\n",
              " '14',\n",
              " '15',\n",
              " '16',\n",
              " '17',\n",
              " '18',\n",
              " '19',\n",
              " '1⁄2',\n",
              " '1⁄4',\n",
              " '2',\n",
              " '2%',\n",
              " '2)',\n",
              " '2.0',\n",
              " '2.3%',\n",
              " '2.5',\n",
              " '2.5%',\n",
              " '2.8%',\n",
              " '20',\n",
              " '200',\n",
              " '2000',\n",
              " '2011',\n",
              " '2012',\n",
              " '2013',\n",
              " '21',\n",
              " '22',\n",
              " '23',\n",
              " '24',\n",
              " '25',\n",
              " '26',\n",
              " '27',\n",
              " '28',\n",
              " '29',\n",
              " '3',\n",
              " '3%',\n",
              " '30',\n",
              " '300',\n",
              " '3000',\n",
              " '31',\n",
              " '32',\n",
              " '33',\n",
              " '34',\n",
              " '35',\n",
              " '36',\n",
              " '37',\n",
              " '38',\n",
              " '39',\n",
              " '3⁄4',\n",
              " '4',\n",
              " '4%',\n",
              " '4%)',\n",
              " '40',\n",
              " '400',\n",
              " '4000',\n",
              " '41',\n",
              " '42',\n",
              " '43',\n",
              " '44',\n",
              " '45',\n",
              " '46',\n",
              " '47',\n",
              " '48',\n",
              " '49',\n",
              " '5',\n",
              " '5%',\n",
              " '5%)',\n",
              " '5,000',\n",
              " '50',\n",
              " '500',\n",
              " '5000',\n",
              " '51',\n",
              " '52',\n",
              " '53',\n",
              " '54',\n",
              " '55',\n",
              " '56',\n",
              " '57',\n",
              " '58',\n",
              " '59',\n",
              " '6',\n",
              " '6%',\n",
              " '60',\n",
              " '600',\n",
              " '6000',\n",
              " '61',\n",
              " '62',\n",
              " '63',\n",
              " '64',\n",
              " '65',\n",
              " '66',\n",
              " '67',\n",
              " '68',\n",
              " '69',\n",
              " '7',\n",
              " '7%',\n",
              " '7%)',\n",
              " '7.0',\n",
              " '7.5%',\n",
              " '70',\n",
              " '700',\n",
              " '7000',\n",
              " '71',\n",
              " '72',\n",
              " '73',\n",
              " '74',\n",
              " '75',\n",
              " '76',\n",
              " '77',\n",
              " '78',\n",
              " '79',\n",
              " '8',\n",
              " '8%',\n",
              " '8%)',\n",
              " '80',\n",
              " '800',\n",
              " '8000',\n",
              " '81',\n",
              " '82',\n",
              " '83',\n",
              " '84',\n",
              " '85',\n",
              " '86',\n",
              " '87',\n",
              " '88',\n",
              " '89',\n",
              " '9',\n",
              " '9%',\n",
              " '9%)',\n",
              " '90',\n",
              " '900',\n",
              " '9000',\n",
              " '91',\n",
              " '92',\n",
              " '93',\n",
              " '94',\n",
              " '95',\n",
              " '96',\n",
              " '97',\n",
              " '98',\n",
              " '99',\n",
              " ':',\n",
              " '://',\n",
              " ':00',\n",
              " ';',\n",
              " '<',\n",
              " '=',\n",
              " '=\"\"',\n",
              " '=\"\">',\n",
              " '>',\n",
              " '?',\n",
              " '?\"',\n",
              " '??',\n",
              " '???',\n",
              " '????',\n",
              " '?”',\n",
              " 'A',\n",
              " 'AM',\n",
              " 'AP',\n",
              " 'AR',\n",
              " 'AS',\n",
              " 'AT',\n",
              " 'B',\n",
              " 'BC',\n",
              " 'BO',\n",
              " 'BS',\n",
              " 'C',\n",
              " 'CC',\n",
              " 'CD',\n",
              " 'CI',\n",
              " 'D',\n",
              " 'DB',\n",
              " 'DC',\n",
              " 'DI',\n",
              " 'E',\n",
              " 'ER',\n",
              " 'EU',\n",
              " 'F',\n",
              " 'FC',\n",
              " 'FI',\n",
              " 'FIFA',\n",
              " 'FTA',\n",
              " 'G',\n",
              " 'GB',\n",
              " 'GDP',\n",
              " 'GM',\n",
              " 'H',\n",
              " 'HD',\n",
              " 'I',\n",
              " 'IA',\n",
              " 'IB',\n",
              " 'IC',\n",
              " 'II',\n",
              " 'IM',\n",
              " 'IN',\n",
              " 'IP',\n",
              " 'IS',\n",
              " 'IT',\n",
              " 'J',\n",
              " 'K',\n",
              " 'KB',\n",
              " 'KBS',\n",
              " 'KT',\n",
              " 'L',\n",
              " 'LED',\n",
              " 'LG',\n",
              " 'LPGA',\n",
              " 'LS',\n",
              " 'M',\n",
              " 'MBC',\n",
              " 'MBN',\n",
              " 'MC',\n",
              " 'MOU',\n",
              " 'MS',\n",
              " 'N',\n",
              " 'NA',\n",
              " 'NE',\n",
              " 'NLL',\n",
              " 'NS',\n",
              " 'NTSB',\n",
              " 'New',\n",
              " 'O',\n",
              " 'OC',\n",
              " 'OS',\n",
              " 'OSEN',\n",
              " 'P',\n",
              " 'PC',\n",
              " 'PD',\n",
              " 'PGA',\n",
              " 'PI',\n",
              " 'PM',\n",
              " 'POP',\n",
              " 'PS',\n",
              " 'Q',\n",
              " 'R',\n",
              " 'S',\n",
              " 'SBS',\n",
              " 'SI',\n",
              " 'SK',\n",
              " 'SNS',\n",
              " 'SP',\n",
              " 'SS',\n",
              " 'ST',\n",
              " 'T',\n",
              " 'TI',\n",
              " 'TS',\n",
              " 'TV',\n",
              " 'The',\n",
              " 'U',\n",
              " 'V',\n",
              " 'W',\n",
              " 'X',\n",
              " 'Y',\n",
              " 'Z',\n",
              " '[',\n",
              " ']',\n",
              " '^',\n",
              " '_',\n",
              " '`',\n",
              " 'a',\n",
              " 'ab',\n",
              " 'ac',\n",
              " 'ad',\n",
              " 'al',\n",
              " 'all',\n",
              " 'am',\n",
              " 'an',\n",
              " 'ar',\n",
              " 'as',\n",
              " 'at',\n",
              " 'ation',\n",
              " 'ay',\n",
              " 'b',\n",
              " 'bp',\n",
              " 'c',\n",
              " 'ch',\n",
              " 'cm',\n",
              " 'co',\n",
              " 'com',\n",
              " 'ct',\n",
              " 'd',\n",
              " 'e',\n",
              " 'ed',\n",
              " 'el',\n",
              " 'en',\n",
              " 'ent',\n",
              " 'er',\n",
              " 'es',\n",
              " 'est',\n",
              " 'et',\n",
              " 'f',\n",
              " 'g',\n",
              " 'go',\n",
              " 'h',\n",
              " 'ha',\n",
              " 'ho',\n",
              " 'http',\n",
              " 'i',\n",
              " 'ic',\n",
              " 'id',\n",
              " 'il',\n",
              " 'in',\n",
              " 'ing',\n",
              " 'ir',\n",
              " 'is',\n",
              " 'it',\n",
              " 'j',\n",
              " 'k',\n",
              " 'kW',\n",
              " 'kg',\n",
              " 'km',\n",
              " 'kr',\n",
              " 'l',\n",
              " 'le',\n",
              " 'lo',\n",
              " 'm',\n",
              " 'mm',\n",
              " 'n',\n",
              " 'net',\n",
              " 'o',\n",
              " 'ol',\n",
              " 'on',\n",
              " 'or',\n",
              " 'ow',\n",
              " 'p',\n",
              " 'q',\n",
              " 'quot',\n",
              " 'r',\n",
              " 'ra',\n",
              " 're',\n",
              " 'ri',\n",
              " 'ro',\n",
              " 's',\n",
              " 'st',\n",
              " 't',\n",
              " 'ter',\n",
              " 'th',\n",
              " 'tion',\n",
              " 'u',\n",
              " 'ul',\n",
              " 'um',\n",
              " 'un',\n",
              " 'ur',\n",
              " 'us',\n",
              " 'ut',\n",
              " 'v',\n",
              " 'ver',\n",
              " 'w',\n",
              " 'www',\n",
              " 'x',\n",
              " 'y',\n",
              " 'z',\n",
              " '{',\n",
              " '|',\n",
              " '}',\n",
              " '~',\n",
              " '~1',\n",
              " '~20',\n",
              " '~3',\n",
              " '~5',\n",
              " '~6',\n",
              " '~8',\n",
              " '¡',\n",
              " '¤',\n",
              " '§',\n",
              " '\\xad',\n",
              " '®',\n",
              " '°',\n",
              " '±',\n",
              " '¶',\n",
              " '·',\n",
              " '¿',\n",
              " 'Æ',\n",
              " '×',\n",
              " 'Ø',\n",
              " 'ß',\n",
              " 'æ',\n",
              " '÷',\n",
              " 'ø',\n",
              " '́',\n",
              " '̧',\n",
              " 'μ',\n",
              " 'ᄀ',\n",
              " 'ᄋ',\n",
              " 'ᄏ',\n",
              " 'ᄒ',\n",
              " 'ᅵ',\n",
              " 'ᆞ',\n",
              " '―',\n",
              " '‘',\n",
              " '’',\n",
              " '’(',\n",
              " '’,',\n",
              " '“',\n",
              " '”',\n",
              " '”,',\n",
              " '′',\n",
              " '※',\n",
              " '⁄',\n",
              " '↑',\n",
              " '→',\n",
              " '↓',\n",
              " '↓]',\n",
              " '∼',\n",
              " '─',\n",
              " '───',\n",
              " '│',\n",
              " '├',\n",
              " '┼',\n",
              " '▁',\n",
              " '▁\"',\n",
              " '▁&',\n",
              " \"▁'\",\n",
              " \"▁'2013\",\n",
              " '▁(',\n",
              " '▁*',\n",
              " '▁-',\n",
              " '▁/',\n",
              " '▁0',\n",
              " '▁0.2',\n",
              " '▁00:0',\n",
              " '▁1',\n",
              " '▁1%',\n",
              " '▁1,2',\n",
              " '▁1.5',\n",
              " '▁10',\n",
              " '▁10%',\n",
              " '▁100',\n",
              " '▁100%',\n",
              " '▁1000',\n",
              " '▁11',\n",
              " '▁12',\n",
              " '▁120',\n",
              " '▁13',\n",
              " '▁14',\n",
              " '▁15',\n",
              " '▁150',\n",
              " '▁16',\n",
              " '▁17',\n",
              " '▁18',\n",
              " '▁19',\n",
              " '▁1990',\n",
              " '▁1997',\n",
              " '▁1998',\n",
              " '▁1~2',\n",
              " '▁2',\n",
              " '▁20',\n",
              " '▁20%',\n",
              " '▁200',\n",
              " '▁2000',\n",
              " '▁2001',\n",
              " '▁2002',\n",
              " '▁2003',\n",
              " '▁2004',\n",
              " '▁2005',\n",
              " '▁2006',\n",
              " '▁2007',\n",
              " '▁2008',\n",
              " '▁2009',\n",
              " '▁2010',\n",
              " '▁2011',\n",
              " '▁2012',\n",
              " '▁2013',\n",
              " '▁2013-0',\n",
              " '▁2013.0',\n",
              " '▁2013.07.1',\n",
              " '▁2013.07.2',\n",
              " '▁2014',\n",
              " '▁2015',\n",
              " '▁2016',\n",
              " '▁2017',\n",
              " '▁21',\n",
              " '▁22',\n",
              " '▁23',\n",
              " '▁24',\n",
              " '▁25',\n",
              " '▁26',\n",
              " '▁27',\n",
              " '▁28',\n",
              " '▁29',\n",
              " '▁2~3',\n",
              " '▁3',\n",
              " '▁3.0',\n",
              " '▁3.3',\n",
              " '▁30',\n",
              " '▁30%',\n",
              " '▁300',\n",
              " '▁3000',\n",
              " '▁31',\n",
              " '▁32',\n",
              " '▁33',\n",
              " '▁34',\n",
              " '▁35',\n",
              " '▁36',\n",
              " '▁37',\n",
              " '▁38',\n",
              " '▁39',\n",
              " '▁4',\n",
              " '▁40',\n",
              " '▁40%',\n",
              " '▁400',\n",
              " '▁45',\n",
              " '▁48',\n",
              " '▁5',\n",
              " '▁50',\n",
              " '▁50%',\n",
              " '▁500',\n",
              " '▁5000',\n",
              " '▁55',\n",
              " '▁6',\n",
              " '▁60',\n",
              " '▁60%',\n",
              " '▁65',\n",
              " '▁7',\n",
              " '▁70',\n",
              " '▁70%',\n",
              " '▁8',\n",
              " '▁80',\n",
              " '▁80%',\n",
              " '▁9',\n",
              " '▁90',\n",
              " '▁:',\n",
              " '▁<',\n",
              " '▁=',\n",
              " '▁>',\n",
              " '▁?',\n",
              " '▁??',\n",
              " '▁A',\n",
              " '▁APP',\n",
              " '▁B',\n",
              " '▁C',\n",
              " '▁CCTV',\n",
              " '▁CEO',\n",
              " '▁CES',\n",
              " '▁CGV',\n",
              " '▁CJ',\n",
              " '▁D',\n",
              " '▁E',\n",
              " '▁ELS',\n",
              " '▁ETF',\n",
              " '▁F',\n",
              " '▁FA',\n",
              " '▁G',\n",
              " '▁GS',\n",
              " '▁H',\n",
              " '▁HOT',\n",
              " '▁Home',\n",
              " '▁I',\n",
              " '▁IT',\n",
              " '▁J',\n",
              " '▁JTBC',\n",
              " '▁K',\n",
              " '▁KB',\n",
              " '▁KBO',\n",
              " '▁KBS',\n",
              " '▁KDB',\n",
              " '▁KIA',\n",
              " '▁KT',\n",
              " '▁L',\n",
              " '▁LA',\n",
              " '▁LG',\n",
              " '▁LIG',\n",
              " '▁LTE',\n",
              " '▁M',\n",
              " '▁MBC',\n",
              " '▁MC',\n",
              " '▁Mnet',\n",
              " '▁N',\n",
              " '▁NC',\n",
              " '▁NH',\n",
              " '▁NHN',\n",
              " '▁NLL',\n",
              " '▁O',\n",
              " '▁P',\n",
              " '▁PC',\n",
              " '▁PD',\n",
              " '▁Q',\n",
              " '▁QPR',\n",
              " '▁R',\n",
              " '▁S',\n",
              " '▁SBS',\n",
              " '▁SK',\n",
              " '▁SM',\n",
              " '▁SNS',\n",
              " '▁STX',\n",
              " '▁T',\n",
              " '▁TV',\n",
              " '▁U',\n",
              " '▁US',\n",
              " '▁V',\n",
              " '▁VIP',\n",
              " '▁W',\n",
              " '▁XML',\n",
              " '▁YG',\n",
              " '▁[',\n",
              " '▁`',\n",
              " '▁and',\n",
              " '▁c',\n",
              " '▁for',\n",
              " '▁of',\n",
              " '▁the',\n",
              " '▁to',\n",
              " '▁tvN',\n",
              " '▁|',\n",
              " '▁‘',\n",
              " '▁‘2013',\n",
              " '▁“',\n",
              " '▁“‘',\n",
              " '▁│',\n",
              " '▁■',\n",
              " '▁▦',\n",
              " '▁▲',\n",
              " '▁△',\n",
              " '▁▷',\n",
              " '▁◀',\n",
              " '▁◆',\n",
              " '▁◇',\n",
              " '▁【',\n",
              " '▁中',\n",
              " '▁美',\n",
              " '▁가격',\n",
              " '▁가격은',\n",
              " '▁가격이',\n",
              " '▁가계',\n",
              " '▁가계부채',\n",
              " '▁가구',\n",
              " '▁가까운',\n",
              " '▁가까이',\n",
              " '▁가는',\n",
              " '▁가능',\n",
              " '▁가능성',\n",
              " '▁가능성도',\n",
              " '▁가능성을',\n",
              " '▁가능성이',\n",
              " '▁가능하다',\n",
              " '▁가능한',\n",
              " '▁가동',\n",
              " '▁가득',\n",
              " '▁가량',\n",
              " '▁가려',\n",
              " '▁가로',\n",
              " '▁가르',\n",
              " '▁가리',\n",
              " '▁가맹점',\n",
              " '▁가방',\n",
              " '▁가수',\n",
              " '▁가스',\n",
              " '▁가슴',\n",
              " '▁가시',\n",
              " '▁가운데',\n",
              " '▁가입',\n",
              " '▁가입자',\n",
              " '▁가장',\n",
              " '▁가전',\n",
              " '▁가정',\n",
              " '▁가져',\n",
              " '▁가졌다',\n",
              " '▁가족',\n",
              " '▁가족들',\n",
              " '▁가지',\n",
              " '▁가지고',\n",
              " '▁가진',\n",
              " '▁가짜',\n",
              " '▁가치',\n",
              " '▁가치를',\n",
              " '▁각',\n",
              " '▁각각',\n",
              " '▁각자',\n",
              " '▁각종',\n",
              " '▁간',\n",
              " '▁간담회',\n",
              " '▁간부',\n",
              " '▁간사',\n",
              " '▁갈',\n",
              " '▁갈등',\n",
              " '▁갈수록',\n",
              " '▁감',\n",
              " '▁감각',\n",
              " '▁감독',\n",
              " '▁감독님',\n",
              " '▁감독은',\n",
              " '▁감독의',\n",
              " '▁감독이',\n",
              " '▁감동',\n",
              " '▁감면',\n",
              " '▁감사',\n",
              " '▁감사원',\n",
              " '▁감성',\n",
              " '▁감소',\n",
              " '▁감소한',\n",
              " '▁감소했다',\n",
              " '▁감시',\n",
              " '▁감안',\n",
              " '▁감안하면',\n",
              " '▁감염',\n",
              " '▁감정',\n",
              " '▁감추지',\n",
              " '▁감축',\n",
              " '▁갑자기',\n",
              " '▁강',\n",
              " '▁강남',\n",
              " '▁강남구',\n",
              " '▁강력',\n",
              " '▁강력한',\n",
              " '▁강렬한',\n",
              " '▁강릉',\n",
              " '▁강세',\n",
              " '▁강원',\n",
              " '▁강원도',\n",
              " '▁강제',\n",
              " '▁강조',\n",
              " '▁강조했다',\n",
              " '▁강하게',\n",
              " '▁강한',\n",
              " '▁강행',\n",
              " '▁강호동',\n",
              " '▁강화',\n",
              " '▁갖',\n",
              " '▁갖고',\n",
              " '▁갖추',\n",
              " '▁갖춘',\n",
              " '▁갖춰',\n",
              " '▁같',\n",
              " '▁같다',\n",
              " '▁같아',\n",
              " '▁같은',\n",
              " '▁같이',\n",
              " '▁개',\n",
              " '▁개그맨',\n",
              " '▁개념',\n",
              " '▁개막',\n",
              " '▁개발',\n",
              " '▁개방',\n",
              " '▁개별',\n",
              " '▁개봉',\n",
              " '▁개선',\n",
              " '▁개설',\n",
              " '▁개성',\n",
              " '▁개성공단',\n",
              " '▁개인',\n",
              " '▁개인정보',\n",
              " '▁개입',\n",
              " '▁개장',\n",
              " '▁개정',\n",
              " '▁개정안',\n",
              " '▁개척',\n",
              " '▁개최',\n",
              " '▁개최한다',\n",
              " '▁개통',\n",
              " '▁개편',\n",
              " '▁개편안',\n",
              " '▁개혁',\n",
              " '▁객관적',\n",
              " '▁갤럭시',\n",
              " '▁거',\n",
              " '▁거두',\n",
              " '▁거둔',\n",
              " '▁거뒀다',\n",
              " '▁거듭',\n",
              " '▁거래',\n",
              " '▁거래되고',\n",
              " '▁거래량',\n",
              " '▁거론',\n",
              " '▁거리',\n",
              " '▁거부',\n",
              " '▁거의',\n",
              " '▁거절',\n",
              " '▁거주',\n",
              " '▁거짓말',\n",
              " '▁거쳐',\n",
              " '▁거치',\n",
              " '▁거친',\n",
              " '▁걱정',\n",
              " '▁건',\n",
              " '▁건강',\n",
              " '▁건립',\n",
              " '▁건물',\n",
              " '▁건설',\n",
              " '▁건설사',\n",
              " '▁건축',\n",
              " '▁걷',\n",
              " '▁걸',\n",
              " '▁걸그룹',\n",
              " '▁걸린',\n",
              " '▁걸스데이',\n",
              " '▁걸어',\n",
              " '▁걸쳐',\n",
              " '▁검',\n",
              " '▁검거',\n",
              " '▁검사',\n",
              " '▁검색',\n",
              " '▁검증',\n",
              " '▁검찰',\n",
              " '▁검찰에',\n",
              " '▁검찰은',\n",
              " '▁검토',\n",
              " '▁겁니다',\n",
              " '▁것',\n",
              " '▁것과',\n",
              " '▁것도',\n",
              " '▁것에',\n",
              " '▁것으로',\n",
              " '▁것은',\n",
              " '▁것을',\n",
              " '▁것이',\n",
              " '▁것이다',\n",
              " '▁것이라고',\n",
              " '▁것이라는',\n",
              " '▁것이란',\n",
              " '▁것인가',\n",
              " '▁것인지',\n",
              " '▁것입니다',\n",
              " '▁것처럼',\n",
              " '▁게',\n",
              " '▁게다가',\n",
              " '▁게스트',\n",
              " '▁게시물',\n",
              " '▁게시판에',\n",
              " '▁게임',\n",
              " '▁게재',\n",
              " '▁게재했다',\n",
              " '▁겨냥',\n",
              " '▁겨울',\n",
              " '▁격',\n",
              " '▁격려',\n",
              " '▁격차',\n",
              " '▁겪',\n",
              " '▁겪고',\n",
              " '▁견',\n",
              " '▁결',\n",
              " '▁결과',\n",
              " '▁결과를',\n",
              " '▁결국',\n",
              " '▁결론',\n",
              " '▁결별',\n",
              " '▁결승',\n",
              " '▁결심',\n",
              " '▁결정',\n",
              " '▁결정했다',\n",
              " '▁결제',\n",
              " '▁결코',\n",
              " '▁결합',\n",
              " '▁결혼',\n",
              " '▁결혼식',\n",
              " '▁겸',\n",
              " '▁경',\n",
              " '▁경계',\n",
              " '▁경고',\n",
              " '▁경기',\n",
              " '▁경기가',\n",
              " '▁경기도',\n",
              " '▁경기를',\n",
              " '▁경기에서',\n",
              " '▁경기침체',\n",
              " '▁경남',\n",
              " '▁경력',\n",
              " '▁경매',\n",
              " '▁경북',\n",
              " '▁경비',\n",
              " '▁경영',\n",
              " '▁경우',\n",
              " '▁경우가',\n",
              " '▁경쟁',\n",
              " '▁경쟁력',\n",
              " '▁경제',\n",
              " '▁경제성장률',\n",
              " '▁경제적',\n",
              " '▁경찰',\n",
              " '▁경찰관',\n",
              " '▁경찰에',\n",
              " '▁경찰은',\n",
              " '▁경험',\n",
              " '▁계',\n",
              " '▁계기가',\n",
              " '▁계기로',\n",
              " '▁계산',\n",
              " '▁계속',\n",
              " '▁계약',\n",
              " '▁계약을',\n",
              " '▁계열사',\n",
              " '▁계절',\n",
              " '▁계좌',\n",
              " '▁계획',\n",
              " '▁계획을',\n",
              " '▁계획이다',\n",
              " '▁고',\n",
              " '▁고객',\n",
              " '▁고객들',\n",
              " '▁고객에게',\n",
              " '▁고교',\n",
              " '▁고급',\n",
              " '▁고려',\n",
              " ...]"
            ]
          },
          "metadata": {
            "tags": []
          },
          "execution_count": 9
        }
      ]
    },
    {
      "cell_type": "markdown",
      "metadata": {
        "id": "dtfxGW23n9J-"
      },
      "source": [
        "# 데이터 로드"
      ]
    },
    {
      "cell_type": "code",
      "metadata": {
        "id": "B59fTZ76n9J-",
        "outputId": "c0b6a815-6ee9-4377-ed7c-db1a7ea02910"
      },
      "source": [
        "'''\n",
        "# 데이터 가져오기\n",
        "path = 'C:/Users/HYEJI/Dropbox/UOS_연구실/khealth_2019'\n",
        "os.chdir(path)\n",
        "os.listdir(path)\n",
        "\n",
        "body = pd.read_excel('clean_body_1_20191118.xlsx')\n",
        "nutrition = pd.read_excel('clean_nutrition_1_20191118.xlsx')\n",
        "health = pd.read_excel('clean_health_1_20191118.xlsx')\n",
        "body.shape, nutrition.shape, health.shape\n",
        "\n",
        "body['group'] = 0\n",
        "nutrition['group'] = 1\n",
        "health['group'] = 2\n",
        "\n",
        "data = pd.concat([body, nutrition, health], axis = 0).reset_index(drop=True)\n",
        "\n",
        "# 'USER_ID', 'CNSL_SN', 'group'별로 groupby 후 중복 데이터 삭제\n",
        "grouped = data.groupby(['USER_ID', 'CNSL_SN', 'group'])\n",
        "\n",
        "data = pd.DataFrame()\n",
        "for key, grp in tqdm(grouped):\n",
        "    grp.drop_duplicates(keep='first', inplace=True, ignore_index=False)\n",
        "    data = pd.concat([data, grp], axis=0)\n",
        "data.reset_index(drop=True, inplace=True)\n",
        "\n",
        "data['message'] = data[['USER_ID','CNSL_SN', 'message', 'group']].groupby(['group', 'CNSL_SN'])['message'].transform(lambda x: '. '.join(x))\n",
        "data = data[['USER_ID','CNSL_SN', 'message', 'group']].drop_duplicates().reset_index(drop=True)\n",
        "\n",
        "path = 'C:/Users/HYEJI/Desktop/kobert/kobert/'\n",
        "data.to_csv(path + 'preprocess_data.csv', index = False, encoding='cp949')\n",
        "'''"
      ],
      "execution_count": null,
      "outputs": [
        {
          "output_type": "execute_result",
          "data": {
            "text/plain": [
              "\"\\n# 데이터 가져오기\\npath = 'C:/Users/HYEJI/Dropbox/UOS_연구실/khealth_2019'\\nos.chdir(path)\\nos.listdir(path)\\n\\nbody = pd.read_excel('clean_body_1_20191118.xlsx')\\nnutrition = pd.read_excel('clean_nutrition_1_20191118.xlsx')\\nhealth = pd.read_excel('clean_health_1_20191118.xlsx')\\nbody.shape, nutrition.shape, health.shape\\n\\nbody['group'] = 0\\nnutrition['group'] = 1\\nhealth['group'] = 2\\n\\ndata = pd.concat([body, nutrition, health], axis = 0).reset_index(drop=True)\\n\\n# 'USER_ID', 'CNSL_SN', 'group'별로 groupby 후 중복 데이터 삭제\\ngrouped = data.groupby(['USER_ID', 'CNSL_SN', 'group'])\\n\\ndata = pd.DataFrame()\\nfor key, grp in tqdm(grouped):\\n    grp.drop_duplicates(keep='first', inplace=True, ignore_index=False)\\n    data = pd.concat([data, grp], axis=0)\\ndata.reset_index(drop=True, inplace=True)\\n\\ndata['message'] = data[['USER_ID','CNSL_SN', 'message', 'group']].groupby(['group', 'CNSL_SN'])['message'].transform(lambda x: '. '.join(x))\\ndata = data[['USER_ID','CNSL_SN', 'message', 'group']].drop_duplicates().reset_index(drop=True)\\n\\npath = 'C:/Users/HYEJI/Desktop/kobert/kobert/'\\ndata.to_csv(path + 'preprocess_data.csv', index = False, encoding='cp949')\\n\""
            ]
          },
          "metadata": {
            "tags": []
          },
          "execution_count": 10
        }
      ]
    },
    {
      "cell_type": "markdown",
      "metadata": {
        "id": "QEhW960Hn9J-"
      },
      "source": [
        " # 전처리\n",
        "  - 중복데이터 및 로그 데이터 삭제"
      ]
    },
    {
      "cell_type": "code",
      "metadata": {
        "id": "rWwKCpp3n9J-"
      },
      "source": [
        "# 전처리 완료한 데이터 가져오기\n",
        "data = pd.read_csv('preprocess_data.csv', encoding = 'cp949')"
      ],
      "execution_count": null,
      "outputs": []
    },
    {
      "cell_type": "code",
      "metadata": {
        "id": "qGGKTSfYn9J_",
        "outputId": "de195e7b-7e3a-4343-b2e2-9c4de55db6be"
      },
      "source": [
        "plt_df = data.copy()\n",
        "plt_df['len_msg'] = data['message'].apply(lambda x: len(x))\n",
        "plt_df['len_msg'].describe()"
      ],
      "execution_count": null,
      "outputs": [
        {
          "output_type": "execute_result",
          "data": {
            "text/plain": [
              "count    127831.000000\n",
              "mean        841.679319\n",
              "std         672.435498\n",
              "min           5.000000\n",
              "25%         383.000000\n",
              "50%         666.000000\n",
              "75%        1092.000000\n",
              "max       12718.000000\n",
              "Name: len_msg, dtype: float64"
            ]
          },
          "metadata": {
            "tags": []
          },
          "execution_count": 12
        }
      ]
    },
    {
      "cell_type": "code",
      "metadata": {
        "id": "PAaHjGC_n9J_",
        "outputId": "767814cc-a46f-4466-81d1-a979acb38e48"
      },
      "source": [
        "# 문자 길이 histogram\n",
        "plt.figure(figsize=(16, 4))\n",
        "plt.subplot(121)\n",
        "plt.title('CNSL별 문자 길이 histogram')\n",
        "sns.histplot(x=plt_df['len_msg'])\n",
        "\n",
        "plt.subplot(122)\n",
        "plt.title('CNSL별 문자 길이 boxplot')\n",
        "sns.boxplot(x = plt_df['len_msg'])"
      ],
      "execution_count": null,
      "outputs": [
        {
          "output_type": "execute_result",
          "data": {
            "text/plain": [
              "<AxesSubplot:title={'center':'CNSL별 문자 길이 boxplot'}, xlabel='len_msg'>"
            ]
          },
          "metadata": {
            "tags": []
          },
          "execution_count": 13
        },
        {
          "output_type": "display_data",
          "data": {
            "image/png": "[encoded data removed]",
            "text/plain": [
              "<Figure size 1152x288 with 2 Axes>"
            ]
          },
          "metadata": {
            "tags": [],
            "needs_background": "light"
          }
        }
      ]
    },
    {
      "cell_type": "markdown",
      "metadata": {
        "id": "r6dN2Zgpn9J_"
      },
      "source": [
        "추가적인 전처리가 필요할 것으로 보임\n",
        "1. log가 나온 것 같은 column들 (cellpadding0 cell0 953 -. height22. col 3 heig...)\n",
        "  - drop or 한글만 남기기\n",
        "2. 나눔스퀘어라운드 Bold, 나눔바른고딕\n",
        "  - drop or 단어만 지우기\n",
        "  \n",
        "→ 데이터의 양이 충분하다고 판단 되어서 일단 둘 다 drop하기로 함"
      ]
    },
    {
      "cell_type": "code",
      "metadata": {
        "id": "wCOcJ3Smn9J_",
        "outputId": "d922ac7f-5fdd-4c9d-e7b8-d816772f365c"
      },
      "source": [
        "# 추가적인 전처리\n",
        "data.drop(data.loc[data[\"message\"].map(lambda x: ('cellpadding0' in x) | ('나눔스퀘어라운드' in x) | ('나눔바른고딕' in x) )].index, inplace = True)\n",
        "\n",
        "plt_df = data.copy()\n",
        "plt_df['len_msg'] = data['message'].apply(lambda x: len(x))\n",
        "print(plt_df['len_msg'].describe())"
      ],
      "execution_count": null,
      "outputs": [
        {
          "output_type": "stream",
          "text": [
            "count    127734.000000\n",
            "mean        840.120031\n",
            "std         665.716646\n",
            "min           5.000000\n",
            "25%         383.000000\n",
            "50%         665.000000\n",
            "75%        1092.000000\n",
            "max        4451.000000\n",
            "Name: len_msg, dtype: float64\n"
          ],
          "name": "stdout"
        }
      ]
    },
    {
      "cell_type": "code",
      "metadata": {
        "id": "P3ENPGV1n9KA",
        "outputId": "2aab03dc-4031-433e-dbbc-c21aec815fc1"
      },
      "source": [
        "# 문자 길이 histogram\n",
        "plt.figure(figsize=(16, 4))\n",
        "plt.subplot(121)\n",
        "plt.title('CNSL별 문자 길이 histogram')\n",
        "sns.histplot(x=plt_df['len_msg'])\n",
        "\n",
        "plt.subplot(122)\n",
        "plt.title('CNSL별 문자 길이 boxplot')\n",
        "sns.boxplot(x = plt_df['len_msg'])"
      ],
      "execution_count": null,
      "outputs": [
        {
          "output_type": "execute_result",
          "data": {
            "text/plain": [
              "<AxesSubplot:title={'center':'CNSL별 문자 길이 boxplot'}, xlabel='len_msg'>"
            ]
          },
          "metadata": {
            "tags": []
          },
          "execution_count": 15
        },
        {
          "output_type": "display_data",
          "data": {
            "image/png": "[encoded data removed]",
            "text/plain": [
              "<Figure size 1152x288 with 2 Axes>"
            ]
          },
          "metadata": {
            "tags": [],
            "needs_background": "light"
          }
        }
      ]
    },
    {
      "cell_type": "code",
      "metadata": {
        "id": "9MZhvAvun9KA",
        "outputId": "64e9754f-56aa-4190-dc86-e3cd3a491837"
      },
      "source": [
        "plt.figure(figsize=(16, 4))\n",
        "plt.subplot(121)\n",
        "plt.title('CNSL별 문자 길이 histogram')\n",
        "sns.histplot(x=plt_df['len_msg'], hue=plt_df['group'], bins = 100, palette='Set3', element=\"step\", kde=True)\n",
        "\n",
        "plt.subplot(122)\n",
        "plt.title('CNSL별 문자 길이 boxplot')\n",
        "sns.boxplot(x=plt_df['group'], y=plt_df['len_msg'], palette='Set3')"
      ],
      "execution_count": null,
      "outputs": [
        {
          "output_type": "execute_result",
          "data": {
            "text/plain": [
              "<AxesSubplot:title={'center':'CNSL별 문자 길이 boxplot'}, xlabel='group', ylabel='len_msg'>"
            ]
          },
          "metadata": {
            "tags": []
          },
          "execution_count": 16
        },
        {
          "output_type": "display_data",
          "data": {
            "image/png": "[encoded data removed]",
            "text/plain": [
              "<Figure size 1152x288 with 2 Axes>"
            ]
          },
          "metadata": {
            "tags": [],
            "needs_background": "light"
          }
        }
      ]
    },
    {
      "cell_type": "markdown",
      "metadata": {
        "id": "dGGB_fFVn9KA"
      },
      "source": [
        "# Tokenizing\n",
        "## 토크나이징 및 input 3가지 만들기\n",
        "KoBERT source code\n",
        "```\n",
        "def get_tokenizer(cachedir='~/kobert/'):\n",
        "    \"\"\"Get KoBERT Tokenizer file path after downloading\n",
        "    \"\"\"\n",
        "    model_info = tokenizer\n",
        "    return download(model_info['url'],\n",
        "                    model_info['fname'],\n",
        "                    model_info['chksum'],\n",
        "                    cachedir=cachedir)\n",
        "\n",
        "tokenizer = {\n",
        "    'url':\n",
        "    'https://kobert.blob.core.windows.net/models/kobert/tokenizer/kobert_news_wiki_ko_cased-ae5711deb3.spiece',\n",
        "    'fname': 'kobert_news_wiki_ko_cased-1087f8699e.spiece',\n",
        "    'chksum': 'ae5711deb3'\n",
        "}\n",
        "```\n",
        "\n",
        "**token embedding (1/3 ♪)**\n",
        "1. get_tokenizer()를 이용하여 한국어 위키 데이터 세트(kobert_news_wiki_ko_cased)를 \n",
        "    sentencepiece로 사전 훈련한 tokenization model의 path를 가져옴\n",
        "2. sentencepiece결과를 사전에 학습된 단어사전(vocab)과 대조하여 ids를 받아옴\n",
        "\n",
        "**segment embedding (2/3 ♪)**\n",
        " - Q. task 4개 중 sequence-level task 중 Single sentence classification segment embedding X `(0, 0, 0, ...., 0)`\n",
        "\n",
        "**Positional embedding (3/3 ♪)**\n",
        " - model 내에서 automatical 하게 이루어짐 \n",
        " - 모델 [souce code](https://huggingface.co/transformers/_modules/transformers/models/bert/modeling_bert.html#BertModel)\n",
        "\n",
        "~~~\n",
        "positional_embedding = self.distance_embedding(distance + self.max_position_embeddings - 1)\n",
        "positional_embedding = positional_embedding.to(dtype=query_layer.dtype)  # fp16 compatibility\n",
        "~~~\n",
        "\n",
        "=> BERT Input 3가지 완료\n",
        "\n",
        "![image.png](attachment:image.png)\n",
        "\n",
        "![image-3.png](attachment:image-3.png)\n",
        "\n",
        "![image-2.png](attachment:image-2.png)"
      ]
    },
    {
      "cell_type": "code",
      "metadata": {
        "id": "bdDS9K3Kn9KB",
        "outputId": "bff4f34f-fdb5-40b3-bd56-c4a8191ff134"
      },
      "source": [
        "tokenizer = get_tokenizer()   # path: Path to the pre-trained subword tokenization model.\n",
        "\n",
        "# class gluonnlp.data.BERTSPTokenizer(path, vocab, num_best=0, alpha=1.0, lower=True, max_input_chars_per_word=200)\n",
        "tok = nlp.data.BERTSPTokenizer(tokenizer, vocab, lower=False)   # tokenizer\n",
        "\n",
        "tok(\"잘 유지하고 계십니다.\")"
      ],
      "execution_count": null,
      "outputs": [
        {
          "output_type": "stream",
          "text": [
            "using cached model\n"
          ],
          "name": "stdout"
        },
        {
          "output_type": "execute_result",
          "data": {
            "text/plain": [
              "['▁잘', '▁유지', '하고', '▁계', '십', '니다', '▁', '.']"
            ]
          },
          "metadata": {
            "tags": []
          },
          "execution_count": 17
        }
      ]
    },
    {
      "cell_type": "code",
      "metadata": {
        "id": "rdYeuMg2n9KB",
        "outputId": "d40e6f97-62b4-4fb7-8b03-6109973324bd"
      },
      "source": [
        "tok_list = [tok(i) for i in tqdm(data['message'])]\n",
        "tok_len_list = [len(i) for i in tqdm(tok_list)]\n",
        "\n",
        "print('토크나이징 길이의 통계량')\n",
        "pd.Series(tok_len_list).describe()"
      ],
      "execution_count": null,
      "outputs": [
        {
          "output_type": "stream",
          "text": [
            "100%|█████████████████████████████████████████████████████████████████████████| 127734/127734 [03:02<00:00, 700.90it/s]\n",
            "100%|█████████████████████████████████████████████████████████████████████| 127734/127734 [00:00<00:00, 2604432.61it/s]\n"
          ],
          "name": "stderr"
        },
        {
          "output_type": "stream",
          "text": [
            "토크나이징 길이의 통계량\n"
          ],
          "name": "stdout"
        },
        {
          "output_type": "execute_result",
          "data": {
            "text/plain": [
              "count    127734.000000\n",
              "mean        503.187397\n",
              "std         402.433474\n",
              "min           3.000000\n",
              "25%         224.000000\n",
              "50%         397.000000\n",
              "75%         647.000000\n",
              "max        3147.000000\n",
              "dtype: float64"
            ]
          },
          "metadata": {
            "tags": []
          },
          "execution_count": 18
        }
      ]
    },
    {
      "cell_type": "code",
      "metadata": {
        "id": "c3yZ0h6qn9KB",
        "outputId": "a82f207f-4aa3-4499-d523-651474097149"
      },
      "source": [
        "# token 길이 histogram\n",
        "plt.figure(figsize=(16, 4))\n",
        "plt.subplot(121)\n",
        "plt.title('CNSL별 token 길이 histogram')\n",
        "sns.histplot(x=tok_len_list)\n",
        "\n",
        "plt.subplot(122)\n",
        "plt.title('CNSL별 token 길이 boxplot')\n",
        "sns.boxplot(x = tok_len_list)"
      ],
      "execution_count": null,
      "outputs": [
        {
          "output_type": "execute_result",
          "data": {
            "text/plain": [
              "<AxesSubplot:title={'center':'CNSL별 token 길이 boxplot'}>"
            ]
          },
          "metadata": {
            "tags": []
          },
          "execution_count": 19
        },
        {
          "output_type": "display_data",
          "data": {
            "image/png": "[encoded data removed]",
            "text/plain": [
              "<Figure size 1152x288 with 2 Axes>"
            ]
          },
          "metadata": {
            "tags": [],
            "needs_background": "light"
          }
        }
      ]
    },
    {
      "cell_type": "code",
      "metadata": {
        "id": "g6zCO4xvn9KC",
        "outputId": "2d53e2f7-aada-4412-c6c0-38e79160203a"
      },
      "source": [
        "tok_list_unpack = [element for array in tok_list for element in array]\n",
        "tok_list = list(set(tok_list_unpack))\n",
        "print('token list unpack length: ', len(tok_list_unpack))\n",
        "print('token set length: ', len(tok_list))"
      ],
      "execution_count": null,
      "outputs": [
        {
          "output_type": "stream",
          "text": [
            "token list unpack length:  64274139\n",
            "token set length:  5762\n"
          ],
          "name": "stdout"
        }
      ]
    },
    {
      "cell_type": "markdown",
      "metadata": {
        "id": "Orwswcsin9KC"
      },
      "source": [
        "# 학습 데이터셋 준비"
      ]
    },
    {
      "cell_type": "code",
      "metadata": {
        "id": "8yKpnnOyn9KC"
      },
      "source": [
        "# train, test 분리\n",
        "train, test = train_test_split(data, test_size=0.2)"
      ],
      "execution_count": null,
      "outputs": []
    },
    {
      "cell_type": "code",
      "metadata": {
        "id": "9zMnPAVSn9KC",
        "outputId": "b8f30a66-a45a-4ba6-e761-98cd4ada49e9"
      },
      "source": [
        "text = '잘 유지하고 계십니다. 하루에 50분씩 유산소 운동을 해주세요'\n",
        "\n",
        "# 문장을 token으로 분리 & special tokens 삽입 & token ids가져오기\n",
        "transform = nlp.data.BERTSentenceTransform(tok, max_seq_length=32, pad=True, pair=False)\n",
        "\n",
        "indexed_tokens = transform([text])[0]\n",
        "indexed_tokens = indexed_tokens[:list(indexed_tokens).index(3)+1]\n",
        "\n",
        "# 비교를 위해 ids로 바뀌기 전  원본 token\n",
        "tokenized_text = tok(text)\n",
        "tokenized_text.insert(0, '[CLS]')\n",
        "tokenized_text.insert(len(tokenized_text), '[SEP]')\n",
        "\n",
        "for tup in zip(tokenized_text, indexed_tokens):\n",
        "    print('{:<12} {:>6,}'.format(tup[0], tup[1]))\n",
        "\n",
        "# 변환 결과 \n",
        "print('\\n\\ntransform 결과 :')\n",
        "transform([text])"
      ],
      "execution_count": null,
      "outputs": [
        {
          "output_type": "stream",
          "text": [
            "[CLS]             2\n",
            "▁잘            3,942\n",
            "▁유지           3,592\n",
            "하고            7,788\n",
            "▁계              980\n",
            "십             6,749\n",
            "니다            5,772\n",
            "▁               517\n",
            ".                54\n",
            "▁하루           4,937\n",
            "에             6,896\n",
            "▁50             612\n",
            "분             6,416\n",
            "씩             6,792\n",
            "▁유            3,574\n",
            "산             6,516\n",
            "소             6,607\n",
            "▁운동           3,514\n",
            "을             7,088\n",
            "▁해            4,998\n",
            "주세요           7,282\n",
            "[SEP]             3\n",
            "\n",
            "\n",
            "transform 결과 :\n"
          ],
          "name": "stdout"
        },
        {
          "output_type": "execute_result",
          "data": {
            "text/plain": [
              "(array([   2, 3942, 3592, 7788,  980, 6749, 5772,  517,   54, 4937, 6896,\n",
              "         612, 6416, 6792, 3574, 6516, 6607, 3514, 7088, 4998, 7282,    3,\n",
              "           1,    1,    1,    1,    1,    1,    1,    1,    1,    1]),\n",
              " array(22),\n",
              " array([0, 0, 0, 0, 0, 0, 0, 0, 0, 0, 0, 0, 0, 0, 0, 0, 0, 0, 0, 0, 0, 0,\n",
              "        0, 0, 0, 0, 0, 0, 0, 0, 0, 0]))"
            ]
          },
          "metadata": {
            "tags": []
          },
          "execution_count": 22
        }
      ]
    },
    {
      "cell_type": "code",
      "metadata": {
        "id": "JqJlmfwDn9KC"
      },
      "source": [
        "# map-style : index로 접근\n",
        "class BERTDataset(Dataset):\n",
        "    def __init__(self, dataset, bert_tokenizer, max_len,\n",
        "                 pad, pair):\n",
        "        transform = nlp.data.BERTSentenceTransform(\n",
        "            bert_tokenizer, max_seq_length=max_len, pad=pad, pair=pair)\n",
        "\n",
        "        self.sentences = [transform([i]) for i in dataset['message']]\n",
        "        self.labels = [np.int32(i) for i in dataset['group']]\n",
        "\n",
        "    def __getitem__(self, i):\n",
        "        return (self.sentences[i] + (self.labels[i], ))\n",
        "\n",
        "    def __len__(self):\n",
        "        return (len(self.labels))"
      ],
      "execution_count": null,
      "outputs": []
    },
    {
      "cell_type": "code",
      "metadata": {
        "id": "G-nXQ7hln9KD"
      },
      "source": [
        "## Setting parameters\n",
        "max_len = 128\n",
        "batch_size = 32\n",
        "warmup_ratio = 0.1\n",
        "num_epochs = 5\n",
        "max_grad_norm = 1\n",
        "log_interval = 200\n",
        "learning_rate =  5e-5"
      ],
      "execution_count": null,
      "outputs": []
    },
    {
      "cell_type": "code",
      "metadata": {
        "id": "XM_2JNtZn9KD",
        "outputId": "55d9df75-8764-4ba0-9dc9-82256fc0ff3c"
      },
      "source": [
        "data_train = BERTDataset(train, tok, max_len, True, False)\n",
        "data_test = BERTDataset(test, tok, max_len, True, False)\n",
        "len(data_train), len(data_test)"
      ],
      "execution_count": null,
      "outputs": [
        {
          "output_type": "execute_result",
          "data": {
            "text/plain": [
              "(102187, 25547)"
            ]
          },
          "metadata": {
            "tags": []
          },
          "execution_count": 25
        }
      ]
    },
    {
      "cell_type": "code",
      "metadata": {
        "id": "_m5t9CkDn9KD",
        "outputId": "eed643fc-5082-4132-b51e-173bb814ee87"
      },
      "source": [
        "train_dataloader = torch.utils.data.DataLoader(data_train, batch_size=batch_size, num_workers=0)\n",
        "test_dataloader = torch.utils.data.DataLoader(data_test, batch_size=batch_size, num_workers=0)\n",
        "len(train_dataloader), len(test_dataloader)"
      ],
      "execution_count": null,
      "outputs": [
        {
          "output_type": "execute_result",
          "data": {
            "text/plain": [
              "(3194, 799)"
            ]
          },
          "metadata": {
            "tags": []
          },
          "execution_count": 26
        }
      ]
    },
    {
      "cell_type": "markdown",
      "metadata": {
        "id": "RM7yJnQLn9KD"
      },
      "source": [
        "# 모델"
      ]
    },
    {
      "cell_type": "markdown",
      "metadata": {
        "id": "x5pAnBoon9KD"
      },
      "source": [
        "```\n",
        "def get_kobert_model(model_path, vocab_file, ctx=\"cpu\"):\n",
        "    bertmodel = BertModel.from_pretrained(model_path)\n",
        "    device = torch.device(ctx)\n",
        "    bertmodel.to(device)\n",
        "    bertmodel.eval()\n",
        "    vocab_b_obj = nlp.vocab.BERTVocab.from_sentencepiece(vocab_file,\n",
        "                                                         padding_token='[PAD]')\n",
        "    return bertmodel, vocab_b_obj\n",
        "```\n",
        "\n",
        "### `BertModel.from_pretrained(model_path)`\n",
        "\n",
        "pretrained pytorch model을 인스턴스화 한다\n",
        "\n",
        "The model is set in evaluation mode by default using 'model.eval()' (Dropout modules are deactivated). \n",
        "To train the model, you should first set it back in training mode with 'model.train()'.\n",
        "\n",
        "- 모델 평가 부분을 보면 model.train()으로 시작함을 확인\n",
        " \n",
        "skt에서 새로운 모델을 만든게 X. Hugging Face에 제공되어 있던 기존의 BERT + 한국어 Wiki 등 (500만개 문장)으로 pre-train..\n",
        "- oogle에서 공개한 bert의 weight를 동일하게 가지고 있음\n",
        "\n",
        "### KoBERT Config\n",
        "```\n",
        "{\n",
        "  \"architectures\": [\n",
        "    \"BertModel\"\n",
        "  ],\n",
        "  \"attention_probs_dropout_prob\": 0.1,\t# attention에 대한 dropout prob\n",
        "  \"gradient_checkpointing\": false,\n",
        "  \"hidden_act\": \"gelu\",\t\t\t        # 인코더 및 pooler 계층의 활성화 함수\n",
        "  \"hidden_dropout_prob\": 0.1,\t\t    # drop out prob\n",
        "  \"hidden_size\": 768,\t\t\t        # 인코더 및 pooler 계층의 차원\n",
        "  \"initializer_range\": 0.02,\n",
        "  \"intermediate_size\": 3072,\n",
        "  \"layer_norm_eps\": 1e-12,\n",
        "  \"max_position_embeddings\": 512,\t\t# position embedding의 최대값 \n",
        "  \"model_type\": \"bert\",\n",
        "  \"num_attention_heads\": 12,\t\t\t# Transformer 인코더의 attention head 수\n",
        "  \"num_hidden_layers\": 12,\t\t    \t# Transformer 인코더의 hidden 레이어 수\n",
        "  \"pad_token_id\": 1,\n",
        "  \"type_vocab_size\": 2,\t\t        \t# segment ids 의 크기 (0, 1 -> 2개가 default)\n",
        "  \"vocab_size\": 8002 \t\t        \t# BERT 모델의 어휘 크기\n",
        "}\n",
        "```\n"
      ]
    },
    {
      "cell_type": "code",
      "metadata": {
        "id": "2DfDrI7Hn9KE"
      },
      "source": [
        "class BERTClassifier(nn.Module):\n",
        "    def __init__(self,\n",
        "                 bert,\n",
        "                 hidden_size = 768, \n",
        "                 num_classes=3,               # 다중 분류 \n",
        "                 dr_rate=None,\n",
        "                 params=None,\n",
        "                 encoder_output=None):        # token의 임베딩을 확인하기 위함\n",
        "        super(BERTClassifier, self).__init__()\n",
        "        self.bert = bert\n",
        "        self.dr_rate = dr_rate\n",
        "        \n",
        "        # token의 임베딩을 확인을 위함\n",
        "        self.encoder_output = encoder_output\n",
        "        \n",
        "        self.classifier = nn.Linear(hidden_size , num_classes)\n",
        "        if dr_rate:\n",
        "            self.dropout = nn.Dropout(p=dr_rate)\n",
        "    \n",
        "    def gen_attention_mask(self, token_ids, valid_length):\n",
        "        attention_mask = torch.zeros_like(token_ids)\n",
        "        for i, v in enumerate(valid_length):\n",
        "            attention_mask[i][:v] = 1\n",
        "        return attention_mask.float()\n",
        "\n",
        "    def forward(self, token_ids, valid_length, segment_ids):\n",
        "        attention_mask = self.gen_attention_mask(token_ids, valid_length)\n",
        "        \n",
        "        # token의 임베딩을 확인을 위함 ( _, pooler -> encoder_output, pooler)\n",
        "        encoder_output, pooler = self.bert(input_ids = token_ids, token_type_ids = segment_ids.long(), attention_mask = attention_mask.float().to(token_ids.device))\n",
        "        if self.dr_rate:\n",
        "            out = self.dropout(pooler)\n",
        "        return self.classifier(out), encoder_output"
      ],
      "execution_count": null,
      "outputs": []
    },
    {
      "cell_type": "code",
      "metadata": {
        "id": "SVQZ1O2On9KE"
      },
      "source": [
        "model = BERTClassifier(bertmodel,  dr_rate=0.5).to(device)"
      ],
      "execution_count": null,
      "outputs": []
    },
    {
      "cell_type": "code",
      "metadata": {
        "id": "Zc5oUEmkn9KE",
        "outputId": "8baa474e-dbbe-4a6d-e3a1-846d73dacb30"
      },
      "source": [
        "# model summary\n",
        "token_ = torch.randint(1, 1000, size=(batch_size, max_len)).type(torch.cuda.LongTensor)\n",
        "valid_ = torch.randint(max_len, max_len+1, size=(1, batch_size)).type(torch.cuda.LongTensor).squeeze()\n",
        "segment_ = torch.zeros((batch_size, max_len)).type(torch.cuda.LongTensor)\n",
        "input_d = [token_, valid_, segment_]\n",
        "\n",
        "summary(model, input_data = input_d)"
      ],
      "execution_count": null,
      "outputs": [
        {
          "output_type": "execute_result",
          "data": {
            "text/plain": [
              "=========================================================================================================\n",
              "Layer (type:depth-idx)                                  Output Shape              Param #\n",
              "=========================================================================================================\n",
              "BERTClassifier                                          --                        --\n",
              "├─BertModel: 1-1                                        [32, 128, 768]            --\n",
              "│    └─BertEmbeddings: 2-1                              [32, 128, 768]            --\n",
              "│    │    └─Embedding: 3-1                              [32, 128, 768]            6,145,536\n",
              "│    │    └─Embedding: 3-2                              [1, 128, 768]             393,216\n",
              "│    │    └─Embedding: 3-3                              [32, 128, 768]            1,536\n",
              "│    │    └─LayerNorm: 3-4                              [32, 128, 768]            1,536\n",
              "│    │    └─Dropout: 3-5                                [32, 128, 768]            --\n",
              "│    └─BertEncoder: 2-2                                 [32, 128, 768]            --\n",
              "│    └─BertPooler: 2-3                                  [32, 768]                 --\n",
              "│    │    └─Linear: 3-6                                 [32, 768]                 590,592\n",
              "│    │    └─Tanh: 3-7                                   [32, 768]                 --\n",
              "├─Dropout: 1-2                                          [32, 768]                 --\n",
              "├─Linear: 1-3                                           [32, 3]                   2,307\n",
              "=========================================================================================================\n",
              "Total params: 7,134,723\n",
              "Trainable params: 7,134,723\n",
              "Non-trainable params: 0\n",
              "Total mult-adds (G): 2.94\n",
              "=========================================================================================================\n",
              "Input size (MB): 0.03\n",
              "Forward/backward pass size (MB): 3398.37\n",
              "Params size (MB): 28.54\n",
              "Estimated Total Size (MB): 3426.94\n",
              "========================================================================================================="
            ]
          },
          "metadata": {
            "tags": []
          },
          "execution_count": 29
        }
      ]
    },
    {
      "cell_type": "code",
      "metadata": {
        "id": "m-9b1TVon9KE",
        "outputId": "a6e9a0e5-205c-4004-e897-7a8858ceac0b"
      },
      "source": [
        "state_dict = model.state_dict()\n",
        "\n",
        "for key in state_dict.keys():\n",
        "    if 'embeddings' in key:\n",
        "        try:\n",
        "            print('{:<50} ({}, {})'.format(key, state_dict[key].shape[0], state_dict[key].shape[1]))\n",
        "        except:\n",
        "            print('{:<50} ({}, )'.format(key, state_dict[key].shape[0]))"
      ],
      "execution_count": null,
      "outputs": [
        {
          "output_type": "stream",
          "text": [
            "bert.embeddings.position_ids                       (1, 512)\n",
            "bert.embeddings.word_embeddings.weight             (8002, 768)\n",
            "bert.embeddings.position_embeddings.weight         (512, 768)\n",
            "bert.embeddings.token_type_embeddings.weight       (2, 768)\n",
            "bert.embeddings.LayerNorm.weight                   (768, )\n",
            "bert.embeddings.LayerNorm.bias                     (768, )\n"
          ],
          "name": "stdout"
        }
      ]
    },
    {
      "cell_type": "code",
      "metadata": {
        "id": "O7JY5gssn9KF"
      },
      "source": [
        "state_embedding = state_dict['bert.embeddings.word_embeddings.weight'].cpu().numpy()\n",
        "\n",
        "word_dict = {}\n",
        "for v, e in zip(vocab_list, state_embedding):\n",
        "    word_dict[v] = e\n",
        "\n",
        "\n",
        "vocab_df = pd.DataFrame(word_dict).T"
      ],
      "execution_count": null,
      "outputs": []
    },
    {
      "cell_type": "code",
      "metadata": {
        "id": "0pbxfyyKn9KF",
        "outputId": "95033498-3a88-4efc-baf2-2b53a2d36884"
      },
      "source": [
        "vocab_df"
      ],
      "execution_count": null,
      "outputs": [
        {
          "output_type": "execute_result",
          "data": {
            "text/html": [
              "<div>\n",
              "<style scoped>\n",
              "    .dataframe tbody tr th:only-of-type {\n",
              "        vertical-align: middle;\n",
              "    }\n",
              "\n",
              "    .dataframe tbody tr th {\n",
              "        vertical-align: top;\n",
              "    }\n",
              "\n",
              "    .dataframe thead th {\n",
              "        text-align: right;\n",
              "    }\n",
              "</style>\n",
              "<table border=\"1\" class=\"dataframe\">\n",
              "  <thead>\n",
              "    <tr style=\"text-align: right;\">\n",
              "      <th></th>\n",
              "      <th>0</th>\n",
              "      <th>1</th>\n",
              "      <th>2</th>\n",
              "      <th>3</th>\n",
              "      <th>4</th>\n",
              "      <th>5</th>\n",
              "      <th>6</th>\n",
              "      <th>7</th>\n",
              "      <th>8</th>\n",
              "      <th>9</th>\n",
              "      <th>...</th>\n",
              "      <th>758</th>\n",
              "      <th>759</th>\n",
              "      <th>760</th>\n",
              "      <th>761</th>\n",
              "      <th>762</th>\n",
              "      <th>763</th>\n",
              "      <th>764</th>\n",
              "      <th>765</th>\n",
              "      <th>766</th>\n",
              "      <th>767</th>\n",
              "    </tr>\n",
              "  </thead>\n",
              "  <tbody>\n",
              "    <tr>\n",
              "      <th>[UNK]</th>\n",
              "      <td>-0.008628</td>\n",
              "      <td>0.015278</td>\n",
              "      <td>0.033778</td>\n",
              "      <td>-0.093347</td>\n",
              "      <td>0.019998</td>\n",
              "      <td>-0.020237</td>\n",
              "      <td>-0.043688</td>\n",
              "      <td>0.040288</td>\n",
              "      <td>-0.023284</td>\n",
              "      <td>-0.048807</td>\n",
              "      <td>...</td>\n",
              "      <td>-0.042467</td>\n",
              "      <td>-0.016914</td>\n",
              "      <td>-0.071751</td>\n",
              "      <td>-0.078698</td>\n",
              "      <td>-0.064119</td>\n",
              "      <td>0.001622</td>\n",
              "      <td>-0.087617</td>\n",
              "      <td>-0.001179</td>\n",
              "      <td>0.086079</td>\n",
              "      <td>-0.019890</td>\n",
              "    </tr>\n",
              "    <tr>\n",
              "      <th>[CLS]</th>\n",
              "      <td>0.001368</td>\n",
              "      <td>0.027340</td>\n",
              "      <td>0.117263</td>\n",
              "      <td>-0.975448</td>\n",
              "      <td>0.007480</td>\n",
              "      <td>-0.016335</td>\n",
              "      <td>-0.024468</td>\n",
              "      <td>-0.047662</td>\n",
              "      <td>0.009895</td>\n",
              "      <td>-0.119224</td>\n",
              "      <td>...</td>\n",
              "      <td>-0.055022</td>\n",
              "      <td>-0.074711</td>\n",
              "      <td>0.008749</td>\n",
              "      <td>0.074882</td>\n",
              "      <td>0.072774</td>\n",
              "      <td>0.018492</td>\n",
              "      <td>-0.019130</td>\n",
              "      <td>0.042188</td>\n",
              "      <td>-0.058159</td>\n",
              "      <td>-0.072012</td>\n",
              "    </tr>\n",
              "    <tr>\n",
              "      <th>[SEP]</th>\n",
              "      <td>0.003465</td>\n",
              "      <td>-0.000367</td>\n",
              "      <td>-0.000446</td>\n",
              "      <td>-0.419149</td>\n",
              "      <td>0.019538</td>\n",
              "      <td>0.001243</td>\n",
              "      <td>0.001945</td>\n",
              "      <td>-0.011206</td>\n",
              "      <td>-0.026532</td>\n",
              "      <td>-0.023012</td>\n",
              "      <td>...</td>\n",
              "      <td>0.004671</td>\n",
              "      <td>-0.008200</td>\n",
              "      <td>0.034071</td>\n",
              "      <td>0.034270</td>\n",
              "      <td>0.000109</td>\n",
              "      <td>-0.003008</td>\n",
              "      <td>-0.001619</td>\n",
              "      <td>0.003121</td>\n",
              "      <td>0.010341</td>\n",
              "      <td>-0.003348</td>\n",
              "    </tr>\n",
              "    <tr>\n",
              "      <th>[MASK]</th>\n",
              "      <td>0.072293</td>\n",
              "      <td>-0.037853</td>\n",
              "      <td>0.027057</td>\n",
              "      <td>-0.324984</td>\n",
              "      <td>-0.025121</td>\n",
              "      <td>0.080477</td>\n",
              "      <td>0.032301</td>\n",
              "      <td>0.062397</td>\n",
              "      <td>0.001907</td>\n",
              "      <td>0.019868</td>\n",
              "      <td>...</td>\n",
              "      <td>0.025568</td>\n",
              "      <td>-0.023945</td>\n",
              "      <td>-0.043171</td>\n",
              "      <td>0.006089</td>\n",
              "      <td>0.008944</td>\n",
              "      <td>0.019942</td>\n",
              "      <td>0.030912</td>\n",
              "      <td>-0.028176</td>\n",
              "      <td>0.016864</td>\n",
              "      <td>-0.081774</td>\n",
              "    </tr>\n",
              "    <tr>\n",
              "      <th>[PAD]</th>\n",
              "      <td>0.007976</td>\n",
              "      <td>-0.009292</td>\n",
              "      <td>-0.012340</td>\n",
              "      <td>-0.648593</td>\n",
              "      <td>0.025962</td>\n",
              "      <td>0.012335</td>\n",
              "      <td>0.009287</td>\n",
              "      <td>0.004979</td>\n",
              "      <td>-0.001254</td>\n",
              "      <td>-0.011080</td>\n",
              "      <td>...</td>\n",
              "      <td>0.002227</td>\n",
              "      <td>-0.010952</td>\n",
              "      <td>0.008585</td>\n",
              "      <td>0.016734</td>\n",
              "      <td>0.018931</td>\n",
              "      <td>-0.011732</td>\n",
              "      <td>0.014900</td>\n",
              "      <td>0.010090</td>\n",
              "      <td>0.000258</td>\n",
              "      <td>-0.017693</td>\n",
              "    </tr>\n",
              "    <tr>\n",
              "      <th>...</th>\n",
              "      <td>...</td>\n",
              "      <td>...</td>\n",
              "      <td>...</td>\n",
              "      <td>...</td>\n",
              "      <td>...</td>\n",
              "      <td>...</td>\n",
              "      <td>...</td>\n",
              "      <td>...</td>\n",
              "      <td>...</td>\n",
              "      <td>...</td>\n",
              "      <td>...</td>\n",
              "      <td>...</td>\n",
              "      <td>...</td>\n",
              "      <td>...</td>\n",
              "      <td>...</td>\n",
              "      <td>...</td>\n",
              "      <td>...</td>\n",
              "      <td>...</td>\n",
              "      <td>...</td>\n",
              "      <td>...</td>\n",
              "      <td>...</td>\n",
              "    </tr>\n",
              "    <tr>\n",
              "      <th>힌</th>\n",
              "      <td>0.064658</td>\n",
              "      <td>-0.027289</td>\n",
              "      <td>-0.017675</td>\n",
              "      <td>0.020539</td>\n",
              "      <td>0.127499</td>\n",
              "      <td>0.045025</td>\n",
              "      <td>0.020857</td>\n",
              "      <td>-0.047814</td>\n",
              "      <td>0.097381</td>\n",
              "      <td>-0.143893</td>\n",
              "      <td>...</td>\n",
              "      <td>-0.027449</td>\n",
              "      <td>0.021552</td>\n",
              "      <td>0.126421</td>\n",
              "      <td>0.021844</td>\n",
              "      <td>0.003017</td>\n",
              "      <td>0.032728</td>\n",
              "      <td>0.063559</td>\n",
              "      <td>-0.009611</td>\n",
              "      <td>-0.003149</td>\n",
              "      <td>0.035869</td>\n",
              "    </tr>\n",
              "    <tr>\n",
              "      <th>힐</th>\n",
              "      <td>-0.084372</td>\n",
              "      <td>-0.152848</td>\n",
              "      <td>-0.062077</td>\n",
              "      <td>-0.000634</td>\n",
              "      <td>0.161037</td>\n",
              "      <td>0.093466</td>\n",
              "      <td>-0.068220</td>\n",
              "      <td>-0.096997</td>\n",
              "      <td>0.061676</td>\n",
              "      <td>-0.087537</td>\n",
              "      <td>...</td>\n",
              "      <td>-0.123299</td>\n",
              "      <td>0.021858</td>\n",
              "      <td>0.082042</td>\n",
              "      <td>0.110653</td>\n",
              "      <td>-0.113111</td>\n",
              "      <td>-0.009206</td>\n",
              "      <td>0.045100</td>\n",
              "      <td>-0.007087</td>\n",
              "      <td>-0.080756</td>\n",
              "      <td>0.057284</td>\n",
              "    </tr>\n",
              "    <tr>\n",
              "      <th>힐링캠프</th>\n",
              "      <td>-0.086310</td>\n",
              "      <td>-0.078166</td>\n",
              "      <td>-0.033516</td>\n",
              "      <td>0.038783</td>\n",
              "      <td>-0.131496</td>\n",
              "      <td>-0.047548</td>\n",
              "      <td>-0.002012</td>\n",
              "      <td>-0.087614</td>\n",
              "      <td>0.166489</td>\n",
              "      <td>0.103608</td>\n",
              "      <td>...</td>\n",
              "      <td>-0.088590</td>\n",
              "      <td>-0.131570</td>\n",
              "      <td>-0.038094</td>\n",
              "      <td>0.077120</td>\n",
              "      <td>-0.105055</td>\n",
              "      <td>-0.063566</td>\n",
              "      <td>-0.056019</td>\n",
              "      <td>-0.111181</td>\n",
              "      <td>0.085566</td>\n",
              "      <td>0.144649</td>\n",
              "    </tr>\n",
              "    <tr>\n",
              "      <th>힘</th>\n",
              "      <td>0.111376</td>\n",
              "      <td>-0.037551</td>\n",
              "      <td>-0.058745</td>\n",
              "      <td>0.071265</td>\n",
              "      <td>0.098227</td>\n",
              "      <td>-0.012983</td>\n",
              "      <td>0.039120</td>\n",
              "      <td>-0.063552</td>\n",
              "      <td>-0.050664</td>\n",
              "      <td>-0.085347</td>\n",
              "      <td>...</td>\n",
              "      <td>-0.135468</td>\n",
              "      <td>0.132594</td>\n",
              "      <td>0.037122</td>\n",
              "      <td>-0.010465</td>\n",
              "      <td>0.061829</td>\n",
              "      <td>0.032756</td>\n",
              "      <td>0.013890</td>\n",
              "      <td>-0.128845</td>\n",
              "      <td>0.054569</td>\n",
              "      <td>0.084309</td>\n",
              "    </tr>\n",
              "    <tr>\n",
              "      <th>힙</th>\n",
              "      <td>0.003377</td>\n",
              "      <td>-0.013141</td>\n",
              "      <td>-0.074657</td>\n",
              "      <td>0.056061</td>\n",
              "      <td>0.136251</td>\n",
              "      <td>0.104781</td>\n",
              "      <td>0.095669</td>\n",
              "      <td>-0.028338</td>\n",
              "      <td>0.058884</td>\n",
              "      <td>-0.093826</td>\n",
              "      <td>...</td>\n",
              "      <td>-0.043513</td>\n",
              "      <td>0.071062</td>\n",
              "      <td>-0.068989</td>\n",
              "      <td>0.137647</td>\n",
              "      <td>-0.015869</td>\n",
              "      <td>0.038617</td>\n",
              "      <td>-0.098476</td>\n",
              "      <td>0.093538</td>\n",
              "      <td>-0.174642</td>\n",
              "      <td>0.005701</td>\n",
              "    </tr>\n",
              "  </tbody>\n",
              "</table>\n",
              "<p>8002 rows × 768 columns</p>\n",
              "</div>"
            ],
            "text/plain": [
              "             0         1         2         3         4         5         6    \\\n",
              "[UNK]  -0.008628  0.015278  0.033778 -0.093347  0.019998 -0.020237 -0.043688   \n",
              "[CLS]   0.001368  0.027340  0.117263 -0.975448  0.007480 -0.016335 -0.024468   \n",
              "[SEP]   0.003465 -0.000367 -0.000446 -0.419149  0.019538  0.001243  0.001945   \n",
              "[MASK]  0.072293 -0.037853  0.027057 -0.324984 -0.025121  0.080477  0.032301   \n",
              "[PAD]   0.007976 -0.009292 -0.012340 -0.648593  0.025962  0.012335  0.009287   \n",
              "...          ...       ...       ...       ...       ...       ...       ...   \n",
              "힌       0.064658 -0.027289 -0.017675  0.020539  0.127499  0.045025  0.020857   \n",
              "힐      -0.084372 -0.152848 -0.062077 -0.000634  0.161037  0.093466 -0.068220   \n",
              "힐링캠프   -0.086310 -0.078166 -0.033516  0.038783 -0.131496 -0.047548 -0.002012   \n",
              "힘       0.111376 -0.037551 -0.058745  0.071265  0.098227 -0.012983  0.039120   \n",
              "힙       0.003377 -0.013141 -0.074657  0.056061  0.136251  0.104781  0.095669   \n",
              "\n",
              "             7         8         9    ...       758       759       760  \\\n",
              "[UNK]   0.040288 -0.023284 -0.048807  ... -0.042467 -0.016914 -0.071751   \n",
              "[CLS]  -0.047662  0.009895 -0.119224  ... -0.055022 -0.074711  0.008749   \n",
              "[SEP]  -0.011206 -0.026532 -0.023012  ...  0.004671 -0.008200  0.034071   \n",
              "[MASK]  0.062397  0.001907  0.019868  ...  0.025568 -0.023945 -0.043171   \n",
              "[PAD]   0.004979 -0.001254 -0.011080  ...  0.002227 -0.010952  0.008585   \n",
              "...          ...       ...       ...  ...       ...       ...       ...   \n",
              "힌      -0.047814  0.097381 -0.143893  ... -0.027449  0.021552  0.126421   \n",
              "힐      -0.096997  0.061676 -0.087537  ... -0.123299  0.021858  0.082042   \n",
              "힐링캠프   -0.087614  0.166489  0.103608  ... -0.088590 -0.131570 -0.038094   \n",
              "힘      -0.063552 -0.050664 -0.085347  ... -0.135468  0.132594  0.037122   \n",
              "힙      -0.028338  0.058884 -0.093826  ... -0.043513  0.071062 -0.068989   \n",
              "\n",
              "             761       762       763       764       765       766       767  \n",
              "[UNK]  -0.078698 -0.064119  0.001622 -0.087617 -0.001179  0.086079 -0.019890  \n",
              "[CLS]   0.074882  0.072774  0.018492 -0.019130  0.042188 -0.058159 -0.072012  \n",
              "[SEP]   0.034270  0.000109 -0.003008 -0.001619  0.003121  0.010341 -0.003348  \n",
              "[MASK]  0.006089  0.008944  0.019942  0.030912 -0.028176  0.016864 -0.081774  \n",
              "[PAD]   0.016734  0.018931 -0.011732  0.014900  0.010090  0.000258 -0.017693  \n",
              "...          ...       ...       ...       ...       ...       ...       ...  \n",
              "힌       0.021844  0.003017  0.032728  0.063559 -0.009611 -0.003149  0.035869  \n",
              "힐       0.110653 -0.113111 -0.009206  0.045100 -0.007087 -0.080756  0.057284  \n",
              "힐링캠프    0.077120 -0.105055 -0.063566 -0.056019 -0.111181  0.085566  0.144649  \n",
              "힘      -0.010465  0.061829  0.032756  0.013890 -0.128845  0.054569  0.084309  \n",
              "힙       0.137647 -0.015869  0.038617 -0.098476  0.093538 -0.174642  0.005701  \n",
              "\n",
              "[8002 rows x 768 columns]"
            ]
          },
          "metadata": {
            "tags": []
          },
          "execution_count": 32
        }
      ]
    },
    {
      "cell_type": "markdown",
      "metadata": {
        "id": "MuF5kmhUn9KF"
      },
      "source": [
        "### 임베딩 heatmap으로 표현하기\n",
        " - Q. 모델 돌린 후 달라질까?"
      ]
    },
    {
      "cell_type": "code",
      "metadata": {
        "id": "EHYI_JQjn9KF",
        "outputId": "fc262dd8-2e9a-4c30-e147-e253f91a35b0"
      },
      "source": [
        "# 아까 예제 불러오기\n",
        "print('----------------- original text -----------------\\n')\n",
        "print(text, '\\n\\n')\n",
        "\n",
        "print('----------------- tokenized text -----------------\\n')\n",
        "print(tokenized_text, '\\n\\n')\n",
        "\n",
        "print('----------------- tokenized index -----------------\\n')\n",
        "print(indexed_tokens)"
      ],
      "execution_count": null,
      "outputs": [
        {
          "output_type": "stream",
          "text": [
            "----------------- original text -----------------\n",
            "\n",
            "잘 유지하고 계십니다. 하루에 50분씩 유산소 운동을 해주세요 \n",
            "\n",
            "\n",
            "----------------- tokenized text -----------------\n",
            "\n",
            "['[CLS]', '▁잘', '▁유지', '하고', '▁계', '십', '니다', '▁', '.', '▁하루', '에', '▁50', '분', '씩', '▁유', '산', '소', '▁운동', '을', '▁해', '주세요', '[SEP]'] \n",
            "\n",
            "\n",
            "----------------- tokenized index -----------------\n",
            "\n",
            "[   2 3942 3592 7788  980 6749 5772  517   54 4937 6896  612 6416 6792\n",
            " 3574 6516 6607 3514 7088 4998 7282    3]\n"
          ],
          "name": "stdout"
        }
      ]
    },
    {
      "cell_type": "code",
      "metadata": {
        "id": "lVz1omEZn9KF",
        "outputId": "517ae0e7-287a-41e0-a3ca-5c274c1f343c"
      },
      "source": [
        "test_dict = {}\n",
        "\n",
        "for t, ids in zip(tokenized_text, indexed_tokens):\n",
        "    print(ids)\n",
        "    test_dict[t] = state_embedding[ids-1]\n",
        "\n",
        "\n",
        "test_df = pd.DataFrame(test_dict).T\n",
        "test_df.head()"
      ],
      "execution_count": null,
      "outputs": [
        {
          "output_type": "stream",
          "text": [
            "2\n",
            "3942\n",
            "3592\n",
            "7788\n",
            "980\n",
            "6749\n",
            "5772\n",
            "517\n",
            "54\n",
            "4937\n",
            "6896\n",
            "612\n",
            "6416\n",
            "6792\n",
            "3574\n",
            "6516\n",
            "6607\n",
            "3514\n",
            "7088\n",
            "4998\n",
            "7282\n",
            "3\n"
          ],
          "name": "stdout"
        },
        {
          "output_type": "execute_result",
          "data": {
            "text/html": [
              "<div>\n",
              "<style scoped>\n",
              "    .dataframe tbody tr th:only-of-type {\n",
              "        vertical-align: middle;\n",
              "    }\n",
              "\n",
              "    .dataframe tbody tr th {\n",
              "        vertical-align: top;\n",
              "    }\n",
              "\n",
              "    .dataframe thead th {\n",
              "        text-align: right;\n",
              "    }\n",
              "</style>\n",
              "<table border=\"1\" class=\"dataframe\">\n",
              "  <thead>\n",
              "    <tr style=\"text-align: right;\">\n",
              "      <th></th>\n",
              "      <th>0</th>\n",
              "      <th>1</th>\n",
              "      <th>2</th>\n",
              "      <th>3</th>\n",
              "      <th>4</th>\n",
              "      <th>5</th>\n",
              "      <th>6</th>\n",
              "      <th>7</th>\n",
              "      <th>8</th>\n",
              "      <th>9</th>\n",
              "      <th>...</th>\n",
              "      <th>758</th>\n",
              "      <th>759</th>\n",
              "      <th>760</th>\n",
              "      <th>761</th>\n",
              "      <th>762</th>\n",
              "      <th>763</th>\n",
              "      <th>764</th>\n",
              "      <th>765</th>\n",
              "      <th>766</th>\n",
              "      <th>767</th>\n",
              "    </tr>\n",
              "  </thead>\n",
              "  <tbody>\n",
              "    <tr>\n",
              "      <th>[CLS]</th>\n",
              "      <td>0.001368</td>\n",
              "      <td>0.027340</td>\n",
              "      <td>0.117263</td>\n",
              "      <td>-0.975448</td>\n",
              "      <td>0.007480</td>\n",
              "      <td>-0.016335</td>\n",
              "      <td>-0.024468</td>\n",
              "      <td>-0.047662</td>\n",
              "      <td>0.009895</td>\n",
              "      <td>-0.119224</td>\n",
              "      <td>...</td>\n",
              "      <td>-0.055022</td>\n",
              "      <td>-0.074711</td>\n",
              "      <td>0.008749</td>\n",
              "      <td>0.074882</td>\n",
              "      <td>0.072774</td>\n",
              "      <td>0.018492</td>\n",
              "      <td>-0.019130</td>\n",
              "      <td>0.042188</td>\n",
              "      <td>-0.058159</td>\n",
              "      <td>-0.072012</td>\n",
              "    </tr>\n",
              "    <tr>\n",
              "      <th>▁잘</th>\n",
              "      <td>-0.077625</td>\n",
              "      <td>0.006853</td>\n",
              "      <td>-0.050031</td>\n",
              "      <td>0.032831</td>\n",
              "      <td>-0.072303</td>\n",
              "      <td>-0.137501</td>\n",
              "      <td>0.032491</td>\n",
              "      <td>0.034961</td>\n",
              "      <td>-0.110782</td>\n",
              "      <td>0.093458</td>\n",
              "      <td>...</td>\n",
              "      <td>-0.160756</td>\n",
              "      <td>0.024603</td>\n",
              "      <td>0.041127</td>\n",
              "      <td>0.002548</td>\n",
              "      <td>0.076318</td>\n",
              "      <td>-0.057076</td>\n",
              "      <td>-0.059606</td>\n",
              "      <td>0.031179</td>\n",
              "      <td>0.040838</td>\n",
              "      <td>-0.040398</td>\n",
              "    </tr>\n",
              "    <tr>\n",
              "      <th>▁유지</th>\n",
              "      <td>-0.106423</td>\n",
              "      <td>-0.033583</td>\n",
              "      <td>-0.077084</td>\n",
              "      <td>-0.033616</td>\n",
              "      <td>-0.063476</td>\n",
              "      <td>0.039857</td>\n",
              "      <td>-0.008615</td>\n",
              "      <td>-0.010420</td>\n",
              "      <td>0.080759</td>\n",
              "      <td>-0.013949</td>\n",
              "      <td>...</td>\n",
              "      <td>0.004826</td>\n",
              "      <td>-0.052977</td>\n",
              "      <td>0.161587</td>\n",
              "      <td>0.010103</td>\n",
              "      <td>0.048661</td>\n",
              "      <td>-0.023852</td>\n",
              "      <td>-0.017749</td>\n",
              "      <td>-0.048495</td>\n",
              "      <td>-0.054590</td>\n",
              "      <td>-0.078921</td>\n",
              "    </tr>\n",
              "    <tr>\n",
              "      <th>하고</th>\n",
              "      <td>0.024842</td>\n",
              "      <td>0.018164</td>\n",
              "      <td>0.029798</td>\n",
              "      <td>-0.048367</td>\n",
              "      <td>0.153731</td>\n",
              "      <td>0.018004</td>\n",
              "      <td>0.084673</td>\n",
              "      <td>-0.014383</td>\n",
              "      <td>-0.041035</td>\n",
              "      <td>0.005901</td>\n",
              "      <td>...</td>\n",
              "      <td>-0.016227</td>\n",
              "      <td>-0.048670</td>\n",
              "      <td>0.015435</td>\n",
              "      <td>0.068309</td>\n",
              "      <td>-0.038344</td>\n",
              "      <td>-0.017124</td>\n",
              "      <td>0.088567</td>\n",
              "      <td>-0.000464</td>\n",
              "      <td>-0.024231</td>\n",
              "      <td>0.043018</td>\n",
              "    </tr>\n",
              "    <tr>\n",
              "      <th>▁계</th>\n",
              "      <td>0.012839</td>\n",
              "      <td>0.087173</td>\n",
              "      <td>-0.025755</td>\n",
              "      <td>0.036842</td>\n",
              "      <td>-0.002596</td>\n",
              "      <td>-0.001168</td>\n",
              "      <td>-0.091017</td>\n",
              "      <td>0.132792</td>\n",
              "      <td>-0.014720</td>\n",
              "      <td>-0.101460</td>\n",
              "      <td>...</td>\n",
              "      <td>0.019713</td>\n",
              "      <td>0.155935</td>\n",
              "      <td>-0.079887</td>\n",
              "      <td>-0.013058</td>\n",
              "      <td>0.006996</td>\n",
              "      <td>-0.039455</td>\n",
              "      <td>0.056154</td>\n",
              "      <td>-0.058382</td>\n",
              "      <td>0.107477</td>\n",
              "      <td>-0.094050</td>\n",
              "    </tr>\n",
              "  </tbody>\n",
              "</table>\n",
              "<p>5 rows × 768 columns</p>\n",
              "</div>"
            ],
            "text/plain": [
              "            0         1         2         3         4         5         6    \\\n",
              "[CLS]  0.001368  0.027340  0.117263 -0.975448  0.007480 -0.016335 -0.024468   \n",
              "▁잘    -0.077625  0.006853 -0.050031  0.032831 -0.072303 -0.137501  0.032491   \n",
              "▁유지   -0.106423 -0.033583 -0.077084 -0.033616 -0.063476  0.039857 -0.008615   \n",
              "하고     0.024842  0.018164  0.029798 -0.048367  0.153731  0.018004  0.084673   \n",
              "▁계     0.012839  0.087173 -0.025755  0.036842 -0.002596 -0.001168 -0.091017   \n",
              "\n",
              "            7         8         9    ...       758       759       760  \\\n",
              "[CLS] -0.047662  0.009895 -0.119224  ... -0.055022 -0.074711  0.008749   \n",
              "▁잘     0.034961 -0.110782  0.093458  ... -0.160756  0.024603  0.041127   \n",
              "▁유지   -0.010420  0.080759 -0.013949  ...  0.004826 -0.052977  0.161587   \n",
              "하고    -0.014383 -0.041035  0.005901  ... -0.016227 -0.048670  0.015435   \n",
              "▁계     0.132792 -0.014720 -0.101460  ...  0.019713  0.155935 -0.079887   \n",
              "\n",
              "            761       762       763       764       765       766       767  \n",
              "[CLS]  0.074882  0.072774  0.018492 -0.019130  0.042188 -0.058159 -0.072012  \n",
              "▁잘     0.002548  0.076318 -0.057076 -0.059606  0.031179  0.040838 -0.040398  \n",
              "▁유지    0.010103  0.048661 -0.023852 -0.017749 -0.048495 -0.054590 -0.078921  \n",
              "하고     0.068309 -0.038344 -0.017124  0.088567 -0.000464 -0.024231  0.043018  \n",
              "▁계    -0.013058  0.006996 -0.039455  0.056154 -0.058382  0.107477 -0.094050  \n",
              "\n",
              "[5 rows x 768 columns]"
            ]
          },
          "metadata": {
            "tags": []
          },
          "execution_count": 34
        }
      ]
    },
    {
      "cell_type": "code",
      "metadata": {
        "id": "KzPEMOaln9KF",
        "outputId": "bb1dc1e2-7d47-4e96-8d28-234f0236b9b2"
      },
      "source": [
        "plt.figure(figsize=(20, 10))\n",
        "sns.heatmap(test_df, cmap = 'coolwarm')"
      ],
      "execution_count": null,
      "outputs": [
        {
          "output_type": "stream",
          "text": [
            "C:\\Users\\HYEJI\\anaconda3\\envs\\bert\\lib\\site-packages\\matplotlib\\backends\\backend_agg.py:240: RuntimeWarning: Glyph 9601 missing from current font.\n",
            "  font.set_text(s, 0.0, flags=flags)\n",
            "C:\\Users\\HYEJI\\anaconda3\\envs\\bert\\lib\\site-packages\\matplotlib\\backends\\backend_agg.py:203: RuntimeWarning: Glyph 9601 missing from current font.\n",
            "  font.set_text(s, 0, flags=flags)\n"
          ],
          "name": "stderr"
        },
        {
          "output_type": "execute_result",
          "data": {
            "text/plain": [
              "<AxesSubplot:>"
            ]
          },
          "metadata": {
            "tags": []
          },
          "execution_count": 35
        },
        {
          "output_type": "display_data",
          "data": {
            "image/png": "[encoded data removed]",
            "text/plain": [
              "<Figure size 1440x720 with 2 Axes>"
            ]
          },
          "metadata": {
            "tags": [],
            "needs_background": "light"
          }
        }
      ]
    },
    {
      "cell_type": "code",
      "metadata": {
        "id": "RAG3XwJSn9KG",
        "outputId": "fc02f86c-5a3b-49b0-81db-de79057d22f9"
      },
      "source": [
        "# 가시적이지 못해서 극값을 분위수로 바꾸고 column을 50개까지만 확인하기로 함\n",
        "plt.figure(figsize=(20, 10))\n",
        "sns.heatmap(test_df.iloc[:, :50], cmap = 'coolwarm', robust=True)"
      ],
      "execution_count": null,
      "outputs": [
        {
          "output_type": "execute_result",
          "data": {
            "text/plain": [
              "<AxesSubplot:>"
            ]
          },
          "metadata": {
            "tags": []
          },
          "execution_count": 36
        },
        {
          "output_type": "display_data",
          "data": {
            "image/png": "[encoded data removed]",
            "text/plain": [
              "<Figure size 1440x720 with 2 Axes>"
            ]
          },
          "metadata": {
            "tags": [],
            "needs_background": "light"
          }
        }
      ]
    },
    {
      "cell_type": "code",
      "metadata": {
        "id": "g6bYbO5gn9KG",
        "outputId": "74df06ed-7c14-4562-e744-9b8e0dd24421"
      },
      "source": [
        "'''\n",
        "# model visualization by torchviz &graphviz\n",
        "dot = make_dot(model(token_, valid_, segment_), params=dict(model.named_parameters()))\n",
        "dot.format = 'png'\n",
        "dot.render(\"model_graph\")\n",
        "\n",
        "# model visualization by netron\n",
        "## 학습 파라미터 불러오기 - model , optimizer\n",
        "PATH = './weights/'\n",
        "checkpoint = torch.load(PATH + 'all.tar')   # dict 불러오기\n",
        "model.load_state_dict(checkpoint['model'])\n",
        "optimizer.load_state_dict(checkpoint['optimizer'])\n",
        "\n",
        "## model 을 onnx 파일로 저장\n",
        "params = model.state_dict()\n",
        "\n",
        "torch.onnx.export(model, (token_, valid_, segment_), PATH+\"model2.onnx\", opset_version=11)\n",
        "\n",
        "## CUDA out of memory.\n",
        "torch.cuda.empty_cache()\n",
        "'''"
      ],
      "execution_count": null,
      "outputs": [
        {
          "output_type": "execute_result",
          "data": {
            "text/plain": [
              "'\\n# model visualization by torchviz &graphviz\\ndot = make_dot(model(token_, valid_, segment_), params=dict(model.named_parameters()))\\ndot.format = \\'png\\'\\ndot.render(\"model_graph\")\\n\\n# model visualization by netron\\n## 학습 파라미터 불러오기 - model , optimizer\\nPATH = \\'./weights/\\'\\ncheckpoint = torch.load(PATH + \\'all.tar\\')   # dict 불러오기\\nmodel.load_state_dict(checkpoint[\\'model\\'])\\noptimizer.load_state_dict(checkpoint[\\'optimizer\\'])\\n\\n## model 을 onnx 파일로 저장\\nparams = model.state_dict()\\n\\ntorch.onnx.export(model, (token_, valid_, segment_), PATH+\"model2.onnx\", opset_version=11)\\n\\n## CUDA out of memory.\\ntorch.cuda.empty_cache()\\n'"
            ]
          },
          "metadata": {
            "tags": []
          },
          "execution_count": 37
        }
      ]
    },
    {
      "cell_type": "code",
      "metadata": {
        "id": "oC9EuJven9KG"
      },
      "source": [
        "# Prepare optimizer and schedule (linear warmup and decay)\n",
        "no_decay = ['bias', 'LayerNorm.weight']\n",
        "optimizer_grouped_parameters = [\n",
        "    {'params': [p for n, p in model.named_parameters() if not any(nd in n for nd in no_decay)], 'weight_decay': 0.01},    # 일반 파라메터에는 l2 regularization lambda = 0.01\n",
        "    {'params': [p for n, p in model.named_parameters() if any(nd in n for nd in no_decay)], 'weight_decay': 0.0}        # Layernorm, bias 는 regularization을 주지 않음\n",
        "]"
      ],
      "execution_count": null,
      "outputs": []
    },
    {
      "cell_type": "code",
      "metadata": {
        "id": "k-gtFeuEn9KG"
      },
      "source": [
        "#optimizer = AdamW(model.parameters(), lr=learning_rate)\n",
        "optimizer = AdamW(optimizer_grouped_parameters, lr=learning_rate)\n",
        "loss_fn = nn.CrossEntropyLoss()"
      ],
      "execution_count": null,
      "outputs": []
    },
    {
      "cell_type": "code",
      "metadata": {
        "id": "KxMPhrv_n9KG",
        "outputId": "c8b2a3b5-b0f0-4c6e-92d2-18956c9e6726"
      },
      "source": [
        "t_total = len(train_dataloader) * num_epochs\n",
        "warmup_step = int(t_total * warmup_ratio)\n",
        "print(t_total, warmup_step)"
      ],
      "execution_count": null,
      "outputs": [
        {
          "output_type": "stream",
          "text": [
            "15970 1597\n"
          ],
          "name": "stdout"
        }
      ]
    },
    {
      "cell_type": "markdown",
      "metadata": {
        "id": "C9bMsMqEn9KG"
      },
      "source": [
        "# 학습"
      ]
    },
    {
      "cell_type": "code",
      "metadata": {
        "id": "otFj902cn9KH"
      },
      "source": [
        "scheduler = get_cosine_schedule_with_warmup(optimizer, num_warmup_steps=warmup_step, num_training_steps=t_total)"
      ],
      "execution_count": null,
      "outputs": []
    },
    {
      "cell_type": "code",
      "metadata": {
        "id": "jlO4Mf1kn9KH"
      },
      "source": [
        "def calc_accuracy(X,Y):\n",
        "    max_vals, max_indices = torch.max(X, 1)\n",
        "    train_acc = (max_indices == Y).sum().data.cpu().numpy()/max_indices.size()[0]\n",
        "    return train_acc"
      ],
      "execution_count": null,
      "outputs": []
    },
    {
      "cell_type": "code",
      "metadata": {
        "id": "Muqos7Bmn9KH",
        "outputId": "f885a8d8-81c8-419f-9f2d-6b6192eb0880"
      },
      "source": [
        "print('사용가능한 gpu개수 \\t', torch.cuda.device_count())\n",
        "print('사용하는 gpu 이름 \\t', torch.cuda.get_device_name(0))\n",
        "print('gpu 사용 여부 \\t\\t', torch.cuda.is_available())\n",
        "print('학습을 진행하는 기기 \\t', device)\n",
        "    "
      ],
      "execution_count": null,
      "outputs": [
        {
          "output_type": "stream",
          "text": [
            "사용가능한 gpu개수 \t 1\n",
            "사용하는 gpu 이름 \t GeForce RTX 2080 Ti\n",
            "gpu 사용 여부 \t\t True\n",
            "학습을 진행하는 기기 \t cuda:0\n"
          ],
          "name": "stdout"
        }
      ]
    },
    {
      "cell_type": "code",
      "metadata": {
        "id": "VclUxbYgn9KH",
        "outputId": "690a9f33-16e4-4296-c585-7337efb113d0"
      },
      "source": [
        "!nvidia-smi"
      ],
      "execution_count": null,
      "outputs": [
        {
          "output_type": "stream",
          "text": [
            "Thu Jun  3 19:02:45 2021       \n",
            "+-----------------------------------------------------------------------------+\n",
            "| NVIDIA-SMI 461.09       Driver Version: 461.09       CUDA Version: 11.2     |\n",
            "|-------------------------------+----------------------+----------------------+\n",
            "| GPU  Name            TCC/WDDM | Bus-Id        Disp.A | Volatile Uncorr. ECC |\n",
            "| Fan  Temp  Perf  Pwr:Usage/Cap|         Memory-Usage | GPU-Util  Compute M. |\n",
            "|                               |                      |               MIG M. |\n",
            "|===============================+======================+======================|\n",
            "|   0  GeForce RTX 208... WDDM  | 00000000:26:00.0  On |                  N/A |\n",
            "| 30%   36C    P2    65W / 250W |   2456MiB / 11264MiB |      0%      Default |\n",
            "|                               |                      |                  N/A |\n",
            "+-------------------------------+----------------------+----------------------+\n",
            "                                                                               \n",
            "+-----------------------------------------------------------------------------+\n",
            "| Processes:                                                                  |\n",
            "|  GPU   GI   CI        PID   Type   Process name                  GPU Memory |\n",
            "|        ID   ID                                                   Usage      |\n",
            "|=============================================================================|\n",
            "|    0   N/A  N/A      1152    C+G   Insufficient Permissions        N/A      |\n",
            "|    0   N/A  N/A      1904    C+G   ...lPanel\\SystemSettings.exe    N/A      |\n",
            "|    0   N/A  N/A      7308    C+G   ...y\\ShellExperienceHost.exe    N/A      |\n",
            "|    0   N/A  N/A      8340    C+G   C:\\Windows\\explorer.exe         N/A      |\n",
            "|    0   N/A  N/A      8632    C+G   ...me\\Application\\chrome.exe    N/A      |\n",
            "|    0   N/A  N/A      9308    C+G   ...8bbwe\\Microsoft.Notes.exe    N/A      |\n",
            "|    0   N/A  N/A     10200    C+G   ...w5n1h2txyewy\\SearchUI.exe    N/A      |\n",
            "|    0   N/A  N/A     10716    C+G   ...ekyb3d8bbwe\\YourPhone.exe    N/A      |\n",
            "|    0   N/A  N/A     11052    C+G   ...t\\Teams\\current\\Teams.exe    N/A      |\n",
            "|    0   N/A  N/A     12692      C   ...nda3\\envs\\bert\\python.exe    N/A      |\n",
            "|    0   N/A  N/A     13600    C+G   ...ropbox\\Client\\Dropbox.exe    N/A      |\n",
            "|    0   N/A  N/A     14132    C+G   ...lack\\app-4.16.1\\slack.exe    N/A      |\n",
            "|    0   N/A  N/A     14892    C+G   ...t\\Teams\\current\\Teams.exe    N/A      |\n",
            "|    0   N/A  N/A     15264    C+G   ...ekyb3d8bbwe\\HxOutlook.exe    N/A      |\n",
            "|    0   N/A  N/A     15684    C+G   ...b3d8bbwe\\WinStore.App.exe    N/A      |\n",
            "|    0   N/A  N/A     16904    C+G   ...rograms\\netron\\Netron.exe    N/A      |\n",
            "|    0   N/A  N/A     17188    C+G   ...rograms\\Notion\\Notion.exe    N/A      |\n",
            "+-----------------------------------------------------------------------------+\n"
          ],
          "name": "stdout"
        }
      ]
    },
    {
      "cell_type": "code",
      "metadata": {
        "id": "IJwyBMvrn9KH"
      },
      "source": [
        "torch.cuda.empty_cache()"
      ],
      "execution_count": null,
      "outputs": []
    },
    {
      "cell_type": "code",
      "metadata": {
        "id": "Hvt5mu2on9KH",
        "outputId": "bf41ff4f-15f3-4d1a-c3fe-c40b0803948d"
      },
      "source": [
        "enc_vec_list_train = []\n",
        "enc_vec_list_test = []\n",
        "for e in range(1):  # num_epochs\n",
        "    train_acc = 0.0\n",
        "    test_acc = 0.0\n",
        "    model.train()\n",
        "    for batch_id, (token_ids, valid_length, segment_ids, label) in enumerate(train_dataloader):\n",
        "        optimizer.zero_grad()\n",
        "        token_ids = token_ids.long().to(device)\n",
        "        segment_ids = segment_ids.long().to(device)\n",
        "        valid_length= valid_length\n",
        "        label = label.long().to(device)\n",
        "        out, enc_vec = model(token_ids, valid_length, segment_ids)\n",
        "        enc_vec_list_train.append(enc_vec)\n",
        "        loss = loss_fn(out, label)\n",
        "        loss.backward()\n",
        "        torch.nn.utils.clip_grad_norm_(model.parameters(), max_grad_norm)\n",
        "        optimizer.step()\n",
        "        scheduler.step()  # Update learning rate schedule\n",
        "        train_acc += calc_accuracy(out, label)\n",
        "        if batch_id % log_interval == 0:\n",
        "            print(\"epoch {} batch id {} loss {} train acc {}\".format(e+1, batch_id+1, loss.data.cpu().numpy(), train_acc / (batch_id+1)))\n",
        "        break\n",
        "    print(\"epoch {} train acc {}\".format(e+1, train_acc / (batch_id+1)))\n",
        "    model.eval()\n",
        "    for batch_id, (token_ids, valid_length, segment_ids, label) in enumerate(test_dataloader):\n",
        "        token_ids = token_ids.long().to(device)\n",
        "        segment_ids = segment_ids.long().to(device)\n",
        "        valid_length= valid_length\n",
        "        label = label.long().to(device)\n",
        "        out, enc_vec = model(token_ids, valid_length, segment_ids)\n",
        "        enc_vec_list_test.append(enc_vec)\n",
        "        test_acc += calc_accuracy(out, label)\n",
        "    print(\"epoch {} test acc {}\".format(e+1, test_acc / (batch_id+1)))"
      ],
      "execution_count": null,
      "outputs": [
        {
          "output_type": "stream",
          "text": [
            "epoch 1 batch id 1 loss 1.2003567218780518 train acc 0.25\n",
            "epoch 1 train acc 0.25\n"
          ],
          "name": "stdout"
        },
        {
          "output_type": "error",
          "ename": "RuntimeError",
          "evalue": "CUDA out of memory. Tried to allocate 48.00 MiB (GPU 0; 11.00 GiB total capacity; 8.24 GiB already allocated; 26.11 MiB free; 8.34 GiB reserved in total by PyTorch)",
          "traceback": [
            "\u001b[1;31m---------------------------------------------------------------------------\u001b[0m",
            "\u001b[1;31mRuntimeError\u001b[0m                              Traceback (most recent call last)",
            "\u001b[1;32m<ipython-input-46-2ec67722f215>\u001b[0m in \u001b[0;36m<module>\u001b[1;34m\u001b[0m\n\u001b[0;32m     29\u001b[0m         \u001b[0mvalid_length\u001b[0m\u001b[1;33m=\u001b[0m \u001b[0mvalid_length\u001b[0m\u001b[1;33m\u001b[0m\u001b[1;33m\u001b[0m\u001b[0m\n\u001b[0;32m     30\u001b[0m         \u001b[0mlabel\u001b[0m \u001b[1;33m=\u001b[0m \u001b[0mlabel\u001b[0m\u001b[1;33m.\u001b[0m\u001b[0mlong\u001b[0m\u001b[1;33m(\u001b[0m\u001b[1;33m)\u001b[0m\u001b[1;33m.\u001b[0m\u001b[0mto\u001b[0m\u001b[1;33m(\u001b[0m\u001b[0mdevice\u001b[0m\u001b[1;33m)\u001b[0m\u001b[1;33m\u001b[0m\u001b[1;33m\u001b[0m\u001b[0m\n\u001b[1;32m---> 31\u001b[1;33m         \u001b[0mout\u001b[0m\u001b[1;33m,\u001b[0m \u001b[0menc_vec\u001b[0m \u001b[1;33m=\u001b[0m \u001b[0mmodel\u001b[0m\u001b[1;33m(\u001b[0m\u001b[0mtoken_ids\u001b[0m\u001b[1;33m,\u001b[0m \u001b[0mvalid_length\u001b[0m\u001b[1;33m,\u001b[0m \u001b[0msegment_ids\u001b[0m\u001b[1;33m)\u001b[0m\u001b[1;33m\u001b[0m\u001b[1;33m\u001b[0m\u001b[0m\n\u001b[0m\u001b[0;32m     32\u001b[0m         \u001b[0menc_vec_list_test\u001b[0m\u001b[1;33m.\u001b[0m\u001b[0mappend\u001b[0m\u001b[1;33m(\u001b[0m\u001b[0menc_vec\u001b[0m\u001b[1;33m)\u001b[0m\u001b[1;33m\u001b[0m\u001b[1;33m\u001b[0m\u001b[0m\n\u001b[0;32m     33\u001b[0m         \u001b[0mtest_acc\u001b[0m \u001b[1;33m+=\u001b[0m \u001b[0mcalc_accuracy\u001b[0m\u001b[1;33m(\u001b[0m\u001b[0mout\u001b[0m\u001b[1;33m,\u001b[0m \u001b[0mlabel\u001b[0m\u001b[1;33m)\u001b[0m\u001b[1;33m\u001b[0m\u001b[1;33m\u001b[0m\u001b[0m\n",
            "\u001b[1;32m~\\anaconda3\\envs\\bert\\lib\\site-packages\\torch\\nn\\modules\\module.py\u001b[0m in \u001b[0;36m_call_impl\u001b[1;34m(self, *input, **kwargs)\u001b[0m\n\u001b[0;32m    887\u001b[0m             \u001b[0mresult\u001b[0m \u001b[1;33m=\u001b[0m \u001b[0mself\u001b[0m\u001b[1;33m.\u001b[0m\u001b[0m_slow_forward\u001b[0m\u001b[1;33m(\u001b[0m\u001b[1;33m*\u001b[0m\u001b[0minput\u001b[0m\u001b[1;33m,\u001b[0m \u001b[1;33m**\u001b[0m\u001b[0mkwargs\u001b[0m\u001b[1;33m)\u001b[0m\u001b[1;33m\u001b[0m\u001b[1;33m\u001b[0m\u001b[0m\n\u001b[0;32m    888\u001b[0m         \u001b[1;32melse\u001b[0m\u001b[1;33m:\u001b[0m\u001b[1;33m\u001b[0m\u001b[1;33m\u001b[0m\u001b[0m\n\u001b[1;32m--> 889\u001b[1;33m             \u001b[0mresult\u001b[0m \u001b[1;33m=\u001b[0m \u001b[0mself\u001b[0m\u001b[1;33m.\u001b[0m\u001b[0mforward\u001b[0m\u001b[1;33m(\u001b[0m\u001b[1;33m*\u001b[0m\u001b[0minput\u001b[0m\u001b[1;33m,\u001b[0m \u001b[1;33m**\u001b[0m\u001b[0mkwargs\u001b[0m\u001b[1;33m)\u001b[0m\u001b[1;33m\u001b[0m\u001b[1;33m\u001b[0m\u001b[0m\n\u001b[0m\u001b[0;32m    890\u001b[0m         for hook in itertools.chain(\n\u001b[0;32m    891\u001b[0m                 \u001b[0m_global_forward_hooks\u001b[0m\u001b[1;33m.\u001b[0m\u001b[0mvalues\u001b[0m\u001b[1;33m(\u001b[0m\u001b[1;33m)\u001b[0m\u001b[1;33m,\u001b[0m\u001b[1;33m\u001b[0m\u001b[1;33m\u001b[0m\u001b[0m\n",
            "\u001b[1;32m<ipython-input-27-9b6e89207186>\u001b[0m in \u001b[0;36mforward\u001b[1;34m(self, token_ids, valid_length, segment_ids)\u001b[0m\n\u001b[0;32m     28\u001b[0m \u001b[1;33m\u001b[0m\u001b[0m\n\u001b[0;32m     29\u001b[0m         \u001b[1;31m# token의 임베딩을 확인을 위함 ( _, pooler -> encoder_output, pooler)\u001b[0m\u001b[1;33m\u001b[0m\u001b[1;33m\u001b[0m\u001b[1;33m\u001b[0m\u001b[0m\n\u001b[1;32m---> 30\u001b[1;33m         \u001b[0mencoder_output\u001b[0m\u001b[1;33m,\u001b[0m \u001b[0mpooler\u001b[0m \u001b[1;33m=\u001b[0m \u001b[0mself\u001b[0m\u001b[1;33m.\u001b[0m\u001b[0mbert\u001b[0m\u001b[1;33m(\u001b[0m\u001b[0minput_ids\u001b[0m \u001b[1;33m=\u001b[0m \u001b[0mtoken_ids\u001b[0m\u001b[1;33m,\u001b[0m \u001b[0mtoken_type_ids\u001b[0m \u001b[1;33m=\u001b[0m \u001b[0msegment_ids\u001b[0m\u001b[1;33m.\u001b[0m\u001b[0mlong\u001b[0m\u001b[1;33m(\u001b[0m\u001b[1;33m)\u001b[0m\u001b[1;33m,\u001b[0m \u001b[0mattention_mask\u001b[0m \u001b[1;33m=\u001b[0m \u001b[0mattention_mask\u001b[0m\u001b[1;33m.\u001b[0m\u001b[0mfloat\u001b[0m\u001b[1;33m(\u001b[0m\u001b[1;33m)\u001b[0m\u001b[1;33m.\u001b[0m\u001b[0mto\u001b[0m\u001b[1;33m(\u001b[0m\u001b[0mtoken_ids\u001b[0m\u001b[1;33m.\u001b[0m\u001b[0mdevice\u001b[0m\u001b[1;33m)\u001b[0m\u001b[1;33m)\u001b[0m\u001b[1;33m\u001b[0m\u001b[1;33m\u001b[0m\u001b[0m\n\u001b[0m\u001b[0;32m     31\u001b[0m         \u001b[1;32mif\u001b[0m \u001b[0mself\u001b[0m\u001b[1;33m.\u001b[0m\u001b[0mdr_rate\u001b[0m\u001b[1;33m:\u001b[0m\u001b[1;33m\u001b[0m\u001b[1;33m\u001b[0m\u001b[0m\n\u001b[0;32m     32\u001b[0m             \u001b[0mout\u001b[0m \u001b[1;33m=\u001b[0m \u001b[0mself\u001b[0m\u001b[1;33m.\u001b[0m\u001b[0mdropout\u001b[0m\u001b[1;33m(\u001b[0m\u001b[0mpooler\u001b[0m\u001b[1;33m)\u001b[0m\u001b[1;33m\u001b[0m\u001b[1;33m\u001b[0m\u001b[0m\n",
            "\u001b[1;32m~\\anaconda3\\envs\\bert\\lib\\site-packages\\torch\\nn\\modules\\module.py\u001b[0m in \u001b[0;36m_call_impl\u001b[1;34m(self, *input, **kwargs)\u001b[0m\n\u001b[0;32m    887\u001b[0m             \u001b[0mresult\u001b[0m \u001b[1;33m=\u001b[0m \u001b[0mself\u001b[0m\u001b[1;33m.\u001b[0m\u001b[0m_slow_forward\u001b[0m\u001b[1;33m(\u001b[0m\u001b[1;33m*\u001b[0m\u001b[0minput\u001b[0m\u001b[1;33m,\u001b[0m \u001b[1;33m**\u001b[0m\u001b[0mkwargs\u001b[0m\u001b[1;33m)\u001b[0m\u001b[1;33m\u001b[0m\u001b[1;33m\u001b[0m\u001b[0m\n\u001b[0;32m    888\u001b[0m         \u001b[1;32melse\u001b[0m\u001b[1;33m:\u001b[0m\u001b[1;33m\u001b[0m\u001b[1;33m\u001b[0m\u001b[0m\n\u001b[1;32m--> 889\u001b[1;33m             \u001b[0mresult\u001b[0m \u001b[1;33m=\u001b[0m \u001b[0mself\u001b[0m\u001b[1;33m.\u001b[0m\u001b[0mforward\u001b[0m\u001b[1;33m(\u001b[0m\u001b[1;33m*\u001b[0m\u001b[0minput\u001b[0m\u001b[1;33m,\u001b[0m \u001b[1;33m**\u001b[0m\u001b[0mkwargs\u001b[0m\u001b[1;33m)\u001b[0m\u001b[1;33m\u001b[0m\u001b[1;33m\u001b[0m\u001b[0m\n\u001b[0m\u001b[0;32m    890\u001b[0m         for hook in itertools.chain(\n\u001b[0;32m    891\u001b[0m                 \u001b[0m_global_forward_hooks\u001b[0m\u001b[1;33m.\u001b[0m\u001b[0mvalues\u001b[0m\u001b[1;33m(\u001b[0m\u001b[1;33m)\u001b[0m\u001b[1;33m,\u001b[0m\u001b[1;33m\u001b[0m\u001b[1;33m\u001b[0m\u001b[0m\n",
            "\u001b[1;32m~\\anaconda3\\envs\\bert\\lib\\site-packages\\transformers\\modeling_bert.py\u001b[0m in \u001b[0;36mforward\u001b[1;34m(self, input_ids, attention_mask, token_type_ids, position_ids, head_mask, inputs_embeds, encoder_hidden_states, encoder_attention_mask, output_attentions, output_hidden_states, return_dict)\u001b[0m\n\u001b[0;32m    833\u001b[0m             \u001b[0moutput_attentions\u001b[0m\u001b[1;33m=\u001b[0m\u001b[0moutput_attentions\u001b[0m\u001b[1;33m,\u001b[0m\u001b[1;33m\u001b[0m\u001b[1;33m\u001b[0m\u001b[0m\n\u001b[0;32m    834\u001b[0m             \u001b[0moutput_hidden_states\u001b[0m\u001b[1;33m=\u001b[0m\u001b[0moutput_hidden_states\u001b[0m\u001b[1;33m,\u001b[0m\u001b[1;33m\u001b[0m\u001b[1;33m\u001b[0m\u001b[0m\n\u001b[1;32m--> 835\u001b[1;33m             \u001b[0mreturn_dict\u001b[0m\u001b[1;33m=\u001b[0m\u001b[0mreturn_dict\u001b[0m\u001b[1;33m,\u001b[0m\u001b[1;33m\u001b[0m\u001b[1;33m\u001b[0m\u001b[0m\n\u001b[0m\u001b[0;32m    836\u001b[0m         )\n\u001b[0;32m    837\u001b[0m         \u001b[0msequence_output\u001b[0m \u001b[1;33m=\u001b[0m \u001b[0mencoder_outputs\u001b[0m\u001b[1;33m[\u001b[0m\u001b[1;36m0\u001b[0m\u001b[1;33m]\u001b[0m\u001b[1;33m\u001b[0m\u001b[1;33m\u001b[0m\u001b[0m\n",
            "\u001b[1;32m~\\anaconda3\\envs\\bert\\lib\\site-packages\\torch\\nn\\modules\\module.py\u001b[0m in \u001b[0;36m_call_impl\u001b[1;34m(self, *input, **kwargs)\u001b[0m\n\u001b[0;32m    887\u001b[0m             \u001b[0mresult\u001b[0m \u001b[1;33m=\u001b[0m \u001b[0mself\u001b[0m\u001b[1;33m.\u001b[0m\u001b[0m_slow_forward\u001b[0m\u001b[1;33m(\u001b[0m\u001b[1;33m*\u001b[0m\u001b[0minput\u001b[0m\u001b[1;33m,\u001b[0m \u001b[1;33m**\u001b[0m\u001b[0mkwargs\u001b[0m\u001b[1;33m)\u001b[0m\u001b[1;33m\u001b[0m\u001b[1;33m\u001b[0m\u001b[0m\n\u001b[0;32m    888\u001b[0m         \u001b[1;32melse\u001b[0m\u001b[1;33m:\u001b[0m\u001b[1;33m\u001b[0m\u001b[1;33m\u001b[0m\u001b[0m\n\u001b[1;32m--> 889\u001b[1;33m             \u001b[0mresult\u001b[0m \u001b[1;33m=\u001b[0m \u001b[0mself\u001b[0m\u001b[1;33m.\u001b[0m\u001b[0mforward\u001b[0m\u001b[1;33m(\u001b[0m\u001b[1;33m*\u001b[0m\u001b[0minput\u001b[0m\u001b[1;33m,\u001b[0m \u001b[1;33m**\u001b[0m\u001b[0mkwargs\u001b[0m\u001b[1;33m)\u001b[0m\u001b[1;33m\u001b[0m\u001b[1;33m\u001b[0m\u001b[0m\n\u001b[0m\u001b[0;32m    890\u001b[0m         for hook in itertools.chain(\n\u001b[0;32m    891\u001b[0m                 \u001b[0m_global_forward_hooks\u001b[0m\u001b[1;33m.\u001b[0m\u001b[0mvalues\u001b[0m\u001b[1;33m(\u001b[0m\u001b[1;33m)\u001b[0m\u001b[1;33m,\u001b[0m\u001b[1;33m\u001b[0m\u001b[1;33m\u001b[0m\u001b[0m\n",
            "\u001b[1;32m~\\anaconda3\\envs\\bert\\lib\\site-packages\\transformers\\modeling_bert.py\u001b[0m in \u001b[0;36mforward\u001b[1;34m(self, hidden_states, attention_mask, head_mask, encoder_hidden_states, encoder_attention_mask, output_attentions, output_hidden_states, return_dict)\u001b[0m\n\u001b[0;32m    488\u001b[0m                     \u001b[0mencoder_hidden_states\u001b[0m\u001b[1;33m,\u001b[0m\u001b[1;33m\u001b[0m\u001b[1;33m\u001b[0m\u001b[0m\n\u001b[0;32m    489\u001b[0m                     \u001b[0mencoder_attention_mask\u001b[0m\u001b[1;33m,\u001b[0m\u001b[1;33m\u001b[0m\u001b[1;33m\u001b[0m\u001b[0m\n\u001b[1;32m--> 490\u001b[1;33m                     \u001b[0moutput_attentions\u001b[0m\u001b[1;33m,\u001b[0m\u001b[1;33m\u001b[0m\u001b[1;33m\u001b[0m\u001b[0m\n\u001b[0m\u001b[0;32m    491\u001b[0m                 )\n\u001b[0;32m    492\u001b[0m             \u001b[0mhidden_states\u001b[0m \u001b[1;33m=\u001b[0m \u001b[0mlayer_outputs\u001b[0m\u001b[1;33m[\u001b[0m\u001b[1;36m0\u001b[0m\u001b[1;33m]\u001b[0m\u001b[1;33m\u001b[0m\u001b[1;33m\u001b[0m\u001b[0m\n",
            "\u001b[1;32m~\\anaconda3\\envs\\bert\\lib\\site-packages\\torch\\nn\\modules\\module.py\u001b[0m in \u001b[0;36m_call_impl\u001b[1;34m(self, *input, **kwargs)\u001b[0m\n\u001b[0;32m    887\u001b[0m             \u001b[0mresult\u001b[0m \u001b[1;33m=\u001b[0m \u001b[0mself\u001b[0m\u001b[1;33m.\u001b[0m\u001b[0m_slow_forward\u001b[0m\u001b[1;33m(\u001b[0m\u001b[1;33m*\u001b[0m\u001b[0minput\u001b[0m\u001b[1;33m,\u001b[0m \u001b[1;33m**\u001b[0m\u001b[0mkwargs\u001b[0m\u001b[1;33m)\u001b[0m\u001b[1;33m\u001b[0m\u001b[1;33m\u001b[0m\u001b[0m\n\u001b[0;32m    888\u001b[0m         \u001b[1;32melse\u001b[0m\u001b[1;33m:\u001b[0m\u001b[1;33m\u001b[0m\u001b[1;33m\u001b[0m\u001b[0m\n\u001b[1;32m--> 889\u001b[1;33m             \u001b[0mresult\u001b[0m \u001b[1;33m=\u001b[0m \u001b[0mself\u001b[0m\u001b[1;33m.\u001b[0m\u001b[0mforward\u001b[0m\u001b[1;33m(\u001b[0m\u001b[1;33m*\u001b[0m\u001b[0minput\u001b[0m\u001b[1;33m,\u001b[0m \u001b[1;33m**\u001b[0m\u001b[0mkwargs\u001b[0m\u001b[1;33m)\u001b[0m\u001b[1;33m\u001b[0m\u001b[1;33m\u001b[0m\u001b[0m\n\u001b[0m\u001b[0;32m    890\u001b[0m         for hook in itertools.chain(\n\u001b[0;32m    891\u001b[0m                 \u001b[0m_global_forward_hooks\u001b[0m\u001b[1;33m.\u001b[0m\u001b[0mvalues\u001b[0m\u001b[1;33m(\u001b[0m\u001b[1;33m)\u001b[0m\u001b[1;33m,\u001b[0m\u001b[1;33m\u001b[0m\u001b[1;33m\u001b[0m\u001b[0m\n",
            "\u001b[1;32m~\\anaconda3\\envs\\bert\\lib\\site-packages\\transformers\\modeling_bert.py\u001b[0m in \u001b[0;36mforward\u001b[1;34m(self, hidden_states, attention_mask, head_mask, encoder_hidden_states, encoder_attention_mask, output_attentions)\u001b[0m\n\u001b[0;32m    431\u001b[0m \u001b[1;33m\u001b[0m\u001b[0m\n\u001b[0;32m    432\u001b[0m         layer_output = apply_chunking_to_forward(\n\u001b[1;32m--> 433\u001b[1;33m             \u001b[0mself\u001b[0m\u001b[1;33m.\u001b[0m\u001b[0mfeed_forward_chunk\u001b[0m\u001b[1;33m,\u001b[0m \u001b[0mself\u001b[0m\u001b[1;33m.\u001b[0m\u001b[0mchunk_size_feed_forward\u001b[0m\u001b[1;33m,\u001b[0m \u001b[0mself\u001b[0m\u001b[1;33m.\u001b[0m\u001b[0mseq_len_dim\u001b[0m\u001b[1;33m,\u001b[0m \u001b[0mattention_output\u001b[0m\u001b[1;33m\u001b[0m\u001b[1;33m\u001b[0m\u001b[0m\n\u001b[0m\u001b[0;32m    434\u001b[0m         )\n\u001b[0;32m    435\u001b[0m         \u001b[0moutputs\u001b[0m \u001b[1;33m=\u001b[0m \u001b[1;33m(\u001b[0m\u001b[0mlayer_output\u001b[0m\u001b[1;33m,\u001b[0m\u001b[1;33m)\u001b[0m \u001b[1;33m+\u001b[0m \u001b[0moutputs\u001b[0m\u001b[1;33m\u001b[0m\u001b[1;33m\u001b[0m\u001b[0m\n",
            "\u001b[1;32m~\\anaconda3\\envs\\bert\\lib\\site-packages\\transformers\\modeling_utils.py\u001b[0m in \u001b[0;36mapply_chunking_to_forward\u001b[1;34m(forward_fn, chunk_size, chunk_dim, *input_tensors)\u001b[0m\n\u001b[0;32m   1595\u001b[0m         \u001b[1;32mreturn\u001b[0m \u001b[0mtorch\u001b[0m\u001b[1;33m.\u001b[0m\u001b[0mcat\u001b[0m\u001b[1;33m(\u001b[0m\u001b[0moutput_chunks\u001b[0m\u001b[1;33m,\u001b[0m \u001b[0mdim\u001b[0m\u001b[1;33m=\u001b[0m\u001b[0mchunk_dim\u001b[0m\u001b[1;33m)\u001b[0m\u001b[1;33m\u001b[0m\u001b[1;33m\u001b[0m\u001b[0m\n\u001b[0;32m   1596\u001b[0m \u001b[1;33m\u001b[0m\u001b[0m\n\u001b[1;32m-> 1597\u001b[1;33m     \u001b[1;32mreturn\u001b[0m \u001b[0mforward_fn\u001b[0m\u001b[1;33m(\u001b[0m\u001b[1;33m*\u001b[0m\u001b[0minput_tensors\u001b[0m\u001b[1;33m)\u001b[0m\u001b[1;33m\u001b[0m\u001b[1;33m\u001b[0m\u001b[0m\n\u001b[0m",
            "\u001b[1;32m~\\anaconda3\\envs\\bert\\lib\\site-packages\\transformers\\modeling_bert.py\u001b[0m in \u001b[0;36mfeed_forward_chunk\u001b[1;34m(self, attention_output)\u001b[0m\n\u001b[0;32m    437\u001b[0m \u001b[1;33m\u001b[0m\u001b[0m\n\u001b[0;32m    438\u001b[0m     \u001b[1;32mdef\u001b[0m \u001b[0mfeed_forward_chunk\u001b[0m\u001b[1;33m(\u001b[0m\u001b[0mself\u001b[0m\u001b[1;33m,\u001b[0m \u001b[0mattention_output\u001b[0m\u001b[1;33m)\u001b[0m\u001b[1;33m:\u001b[0m\u001b[1;33m\u001b[0m\u001b[1;33m\u001b[0m\u001b[0m\n\u001b[1;32m--> 439\u001b[1;33m         \u001b[0mintermediate_output\u001b[0m \u001b[1;33m=\u001b[0m \u001b[0mself\u001b[0m\u001b[1;33m.\u001b[0m\u001b[0mintermediate\u001b[0m\u001b[1;33m(\u001b[0m\u001b[0mattention_output\u001b[0m\u001b[1;33m)\u001b[0m\u001b[1;33m\u001b[0m\u001b[1;33m\u001b[0m\u001b[0m\n\u001b[0m\u001b[0;32m    440\u001b[0m         \u001b[0mlayer_output\u001b[0m \u001b[1;33m=\u001b[0m \u001b[0mself\u001b[0m\u001b[1;33m.\u001b[0m\u001b[0moutput\u001b[0m\u001b[1;33m(\u001b[0m\u001b[0mintermediate_output\u001b[0m\u001b[1;33m,\u001b[0m \u001b[0mattention_output\u001b[0m\u001b[1;33m)\u001b[0m\u001b[1;33m\u001b[0m\u001b[1;33m\u001b[0m\u001b[0m\n\u001b[0;32m    441\u001b[0m         \u001b[1;32mreturn\u001b[0m \u001b[0mlayer_output\u001b[0m\u001b[1;33m\u001b[0m\u001b[1;33m\u001b[0m\u001b[0m\n",
            "\u001b[1;32m~\\anaconda3\\envs\\bert\\lib\\site-packages\\torch\\nn\\modules\\module.py\u001b[0m in \u001b[0;36m_call_impl\u001b[1;34m(self, *input, **kwargs)\u001b[0m\n\u001b[0;32m    887\u001b[0m             \u001b[0mresult\u001b[0m \u001b[1;33m=\u001b[0m \u001b[0mself\u001b[0m\u001b[1;33m.\u001b[0m\u001b[0m_slow_forward\u001b[0m\u001b[1;33m(\u001b[0m\u001b[1;33m*\u001b[0m\u001b[0minput\u001b[0m\u001b[1;33m,\u001b[0m \u001b[1;33m**\u001b[0m\u001b[0mkwargs\u001b[0m\u001b[1;33m)\u001b[0m\u001b[1;33m\u001b[0m\u001b[1;33m\u001b[0m\u001b[0m\n\u001b[0;32m    888\u001b[0m         \u001b[1;32melse\u001b[0m\u001b[1;33m:\u001b[0m\u001b[1;33m\u001b[0m\u001b[1;33m\u001b[0m\u001b[0m\n\u001b[1;32m--> 889\u001b[1;33m             \u001b[0mresult\u001b[0m \u001b[1;33m=\u001b[0m \u001b[0mself\u001b[0m\u001b[1;33m.\u001b[0m\u001b[0mforward\u001b[0m\u001b[1;33m(\u001b[0m\u001b[1;33m*\u001b[0m\u001b[0minput\u001b[0m\u001b[1;33m,\u001b[0m \u001b[1;33m**\u001b[0m\u001b[0mkwargs\u001b[0m\u001b[1;33m)\u001b[0m\u001b[1;33m\u001b[0m\u001b[1;33m\u001b[0m\u001b[0m\n\u001b[0m\u001b[0;32m    890\u001b[0m         for hook in itertools.chain(\n\u001b[0;32m    891\u001b[0m                 \u001b[0m_global_forward_hooks\u001b[0m\u001b[1;33m.\u001b[0m\u001b[0mvalues\u001b[0m\u001b[1;33m(\u001b[0m\u001b[1;33m)\u001b[0m\u001b[1;33m,\u001b[0m\u001b[1;33m\u001b[0m\u001b[1;33m\u001b[0m\u001b[0m\n",
            "\u001b[1;32m~\\anaconda3\\envs\\bert\\lib\\site-packages\\transformers\\modeling_bert.py\u001b[0m in \u001b[0;36mforward\u001b[1;34m(self, hidden_states)\u001b[0m\n\u001b[0;32m    365\u001b[0m     \u001b[1;32mdef\u001b[0m \u001b[0mforward\u001b[0m\u001b[1;33m(\u001b[0m\u001b[0mself\u001b[0m\u001b[1;33m,\u001b[0m \u001b[0mhidden_states\u001b[0m\u001b[1;33m)\u001b[0m\u001b[1;33m:\u001b[0m\u001b[1;33m\u001b[0m\u001b[1;33m\u001b[0m\u001b[0m\n\u001b[0;32m    366\u001b[0m         \u001b[0mhidden_states\u001b[0m \u001b[1;33m=\u001b[0m \u001b[0mself\u001b[0m\u001b[1;33m.\u001b[0m\u001b[0mdense\u001b[0m\u001b[1;33m(\u001b[0m\u001b[0mhidden_states\u001b[0m\u001b[1;33m)\u001b[0m\u001b[1;33m\u001b[0m\u001b[1;33m\u001b[0m\u001b[0m\n\u001b[1;32m--> 367\u001b[1;33m         \u001b[0mhidden_states\u001b[0m \u001b[1;33m=\u001b[0m \u001b[0mself\u001b[0m\u001b[1;33m.\u001b[0m\u001b[0mintermediate_act_fn\u001b[0m\u001b[1;33m(\u001b[0m\u001b[0mhidden_states\u001b[0m\u001b[1;33m)\u001b[0m\u001b[1;33m\u001b[0m\u001b[1;33m\u001b[0m\u001b[0m\n\u001b[0m\u001b[0;32m    368\u001b[0m         \u001b[1;32mreturn\u001b[0m \u001b[0mhidden_states\u001b[0m\u001b[1;33m\u001b[0m\u001b[1;33m\u001b[0m\u001b[0m\n\u001b[0;32m    369\u001b[0m \u001b[1;33m\u001b[0m\u001b[0m\n",
            "\u001b[1;32m~\\anaconda3\\envs\\bert\\lib\\site-packages\\torch\\nn\\functional.py\u001b[0m in \u001b[0;36mgelu\u001b[1;34m(input)\u001b[0m\n\u001b[0;32m   1457\u001b[0m     \u001b[1;32mif\u001b[0m \u001b[0mhas_torch_function_unary\u001b[0m\u001b[1;33m(\u001b[0m\u001b[0minput\u001b[0m\u001b[1;33m)\u001b[0m\u001b[1;33m:\u001b[0m\u001b[1;33m\u001b[0m\u001b[1;33m\u001b[0m\u001b[0m\n\u001b[0;32m   1458\u001b[0m         \u001b[1;32mreturn\u001b[0m \u001b[0mhandle_torch_function\u001b[0m\u001b[1;33m(\u001b[0m\u001b[0mgelu\u001b[0m\u001b[1;33m,\u001b[0m \u001b[1;33m(\u001b[0m\u001b[0minput\u001b[0m\u001b[1;33m,\u001b[0m\u001b[1;33m)\u001b[0m\u001b[1;33m,\u001b[0m \u001b[0minput\u001b[0m\u001b[1;33m)\u001b[0m\u001b[1;33m\u001b[0m\u001b[1;33m\u001b[0m\u001b[0m\n\u001b[1;32m-> 1459\u001b[1;33m     \u001b[1;32mreturn\u001b[0m \u001b[0mtorch\u001b[0m\u001b[1;33m.\u001b[0m\u001b[0m_C\u001b[0m\u001b[1;33m.\u001b[0m\u001b[0m_nn\u001b[0m\u001b[1;33m.\u001b[0m\u001b[0mgelu\u001b[0m\u001b[1;33m(\u001b[0m\u001b[0minput\u001b[0m\u001b[1;33m)\u001b[0m\u001b[1;33m\u001b[0m\u001b[1;33m\u001b[0m\u001b[0m\n\u001b[0m\u001b[0;32m   1460\u001b[0m \u001b[1;33m\u001b[0m\u001b[0m\n\u001b[0;32m   1461\u001b[0m \u001b[1;33m\u001b[0m\u001b[0m\n",
            "\u001b[1;31mRuntimeError\u001b[0m: CUDA out of memory. Tried to allocate 48.00 MiB (GPU 0; 11.00 GiB total capacity; 8.24 GiB already allocated; 26.11 MiB free; 8.34 GiB reserved in total by PyTorch)"
          ]
        }
      ]
    },
    {
      "cell_type": "code",
      "metadata": {
        "id": "bjX05RqUn9KI",
        "outputId": "28a9737a-9631-44f1-bc44-114b1c374630"
      },
      "source": [
        "enc_vec_list_train[0].shape"
      ],
      "execution_count": null,
      "outputs": [
        {
          "output_type": "execute_result",
          "data": {
            "text/plain": [
              "torch.Size([32, 128, 768])"
            ]
          },
          "metadata": {
            "tags": []
          },
          "execution_count": 51
        }
      ]
    },
    {
      "cell_type": "code",
      "metadata": {
        "id": "d2K0STd0n9KI",
        "outputId": "3ad3871b-82b6-4ee0-e896-75d3ce6bce12"
      },
      "source": [
        "len(enc_vec_list_train)"
      ],
      "execution_count": null,
      "outputs": [
        {
          "output_type": "execute_result",
          "data": {
            "text/plain": [
              "1"
            ]
          },
          "metadata": {
            "tags": []
          },
          "execution_count": 48
        }
      ]
    },
    {
      "cell_type": "markdown",
      "metadata": {
        "id": "sqmUSLXzn9KI"
      },
      "source": [
        "# 모델 저장"
      ]
    },
    {
      "cell_type": "code",
      "metadata": {
        "id": "hxMUpuC3n9KI"
      },
      "source": [
        "'''\n",
        "PATH = './weights/'\n",
        "torch.save({\n",
        "    'model': model.state_dict(),\n",
        "    'optimizer': optimizer.state_dict()\n",
        "}, PATH + 'all.tar')\n",
        "'''"
      ],
      "execution_count": null,
      "outputs": []
    },
    {
      "cell_type": "markdown",
      "metadata": {
        "id": "P9X5hADvn9KI"
      },
      "source": [
        "### 아까 text 의 input 임베딩이 변했을까? -> No\n",
        "- bert model에 backward X\n",
        "- 각 Encoder의 output을 모두 그 단어의 embedding으로 사용할 수 있다"
      ]
    },
    {
      "cell_type": "code",
      "metadata": {
        "id": "csqciMyDn9KI"
      },
      "source": [
        "## 학습 파라미터 불러오기 - model , optimizer\n",
        "PATH = './weights/'\n",
        "checkpoint = torch.load(PATH + 'all.tar')   # dict 불러오기\n",
        "model.load_state_dict(checkpoint['model'])\n",
        "optimizer.load_state_dict(checkpoint['optimizer'])"
      ],
      "execution_count": null,
      "outputs": []
    },
    {
      "cell_type": "code",
      "metadata": {
        "id": "PQVZaDiin9KJ"
      },
      "source": [
        "# 아까 예제 불러오기\n",
        "print('----------------- original text -----------------\\n')\n",
        "print(text, '\\n\\n')\n",
        "\n",
        "print('----------------- tokenized text -----------------\\n')\n",
        "print(tokenized_text, '\\n\\n')\n",
        "\n",
        "print('----------------- tokenized index -----------------\\n')\n",
        "print(indexed_tokens)"
      ],
      "execution_count": null,
      "outputs": []
    },
    {
      "cell_type": "code",
      "metadata": {
        "id": "VMRKoBbRn9KJ"
      },
      "source": [
        "state_dict = model.state_dict()\n",
        "\n",
        "for key in state_dict.keys():\n",
        "    try:\n",
        "        print('{:<60} ({}, {})'.format(key, state_dict[key].shape[0], state_dict[key].shape[1]))\n",
        "    except:\n",
        "        print('{:<60} ({}, )'.format(key, state_dict[key].shape[0]))"
      ],
      "execution_count": null,
      "outputs": []
    },
    {
      "cell_type": "code",
      "metadata": {
        "id": "29pwFc34n9KJ"
      },
      "source": [
        "state_dict['bert.encoder.layer.11.output.LayerNorm.weight'].cpu().numpy().shape"
      ],
      "execution_count": null,
      "outputs": []
    },
    {
      "cell_type": "code",
      "metadata": {
        "id": "74xTz639n9KJ"
      },
      "source": [
        "state_dict = model.state_dict()\n",
        "# embedding 결과 값으로 바꿈\n",
        "state_embedding = state_dict['bert.encoder.layer.11.output.LayerNorm.weight'].cpu().numpy()\n",
        "\n",
        "test_dict = {}\n",
        "for t, ids in zip(tokenized_text, indexed_tokens):\n",
        "    print(ids)\n",
        "    test_dict[t] = state_embedding[ids-1]\n",
        "\n",
        "\n",
        "test_df = pd.DataFrame(test_dict).T\n",
        "test_df.head()"
      ],
      "execution_count": null,
      "outputs": []
    },
    {
      "cell_type": "code",
      "metadata": {
        "id": "KIRU879en9KJ"
      },
      "source": [
        "plt.figure(figsize=(20, 10))\n",
        "sns.heatmap(test_df, cmap = 'coolwarm')"
      ],
      "execution_count": null,
      "outputs": []
    },
    {
      "cell_type": "code",
      "metadata": {
        "id": "XAljsCcan9KJ"
      },
      "source": [
        "plt.figure(figsize=(20, 10))\n",
        "sns.heatmap(test_df, cmap = 'coolwarm', robust=True)"
      ],
      "execution_count": null,
      "outputs": []
    },
    {
      "cell_type": "code",
      "metadata": {
        "id": "tiOQlsden9KJ"
      },
      "source": [
        "# 가시적이지 못해서 극값을 분위수로 바꾸고 column을 50개까지만 확인하기로 함\n",
        "plt.figure(figsize=(20, 10))\n",
        "sns.heatmap(test_df.iloc[:, :50], cmap = 'coolwarm', robust=True)"
      ],
      "execution_count": null,
      "outputs": []
    },
    {
      "cell_type": "code",
      "metadata": {
        "id": "1m8RuP_yn9KJ"
      },
      "source": [
        ""
      ],
      "execution_count": null,
      "outputs": []
    },
    {
      "cell_type": "code",
      "metadata": {
        "id": "RBZm6gOAn9KK"
      },
      "source": [
        ""
      ],
      "execution_count": null,
      "outputs": []
    },
    {
      "cell_type": "code",
      "metadata": {
        "id": "h151HO9Tn9KK"
      },
      "source": [
        ""
      ],
      "execution_count": null,
      "outputs": []
    },
    {
      "cell_type": "code",
      "metadata": {
        "id": "7E56Xt8dn9KK"
      },
      "source": [
        ""
      ],
      "execution_count": null,
      "outputs": []
    },
    {
      "cell_type": "code",
      "metadata": {
        "id": "qiXTYhPWn9KK"
      },
      "source": [
        ""
      ],
      "execution_count": null,
      "outputs": []
    },
    {
      "cell_type": "code",
      "metadata": {
        "id": "dtP5DJOgn9KK"
      },
      "source": [
        ""
      ],
      "execution_count": null,
      "outputs": []
    },
    {
      "cell_type": "code",
      "metadata": {
        "id": "TAOoraHfn9KK"
      },
      "source": [
        ""
      ],
      "execution_count": null,
      "outputs": []
    },
    {
      "cell_type": "code",
      "metadata": {
        "id": "mHNCOT1gn9KK"
      },
      "source": [
        ""
      ],
      "execution_count": null,
      "outputs": []
    }
  ]
}